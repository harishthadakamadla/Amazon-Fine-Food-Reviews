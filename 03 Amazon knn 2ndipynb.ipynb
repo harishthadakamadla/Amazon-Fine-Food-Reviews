{
 "cells": [
  {
   "cell_type": "markdown",
   "metadata": {},
   "source": [
    "# KNN on  Amazon Fine Food Reviews Analysis\n",
    "\n",
    "\n",
    "Data Source: https://www.kaggle.com/snap/amazon-fine-food-reviews <br>\n",
    "\n",
    "EDA: https://nycdatascience.com/blog/student-works/amazon-fine-foods-visualization/\n",
    "\n",
    "\n",
    "The Amazon Fine Food Reviews dataset consists of reviews of fine foods from Amazon.<br>\n",
    "\n",
    "Number of reviews: 568,454<br>\n",
    "Number of users: 256,059<br>\n",
    "Number of products: 74,258<br>\n",
    "Timespan: Oct 1999 - Oct 2012<br>\n",
    "Number of Attributes/Columns in data: 10 \n",
    "\n",
    "Attribute Information:\n",
    "\n",
    "1. Id\n",
    "2. ProductId - unique identifier for the product\n",
    "3. UserId - unqiue identifier for the user\n",
    "4. ProfileName\n",
    "5. HelpfulnessNumerator - number of users who found the review helpful\n",
    "6. HelpfulnessDenominator - number of users who indicated whether they found the review helpful or not\n",
    "7. Score - rating between 1 and 5\n",
    "8. Time - timestamp for the review\n",
    "9. Summary - brief summary of the review\n",
    "10. Text - text of the review\n",
    "\n",
    "\n",
    "#### Objective:\n",
    "Given a review, determine whether the review is positive (rating of 4 or 5) or negative (rating of 1 or 2).\n",
    "\n",
    "<br>\n",
    "[Q] How to determine if a review is positive or negative?<br>\n",
    "<br> \n",
    "[Ans] We could use Score/Rating. A rating of 4 or 5 can be cosnidered as a positive review. A rating of 1 or 2 can be considered as negative one. A review of rating 3 is considered nuetral and such reviews are ignored from our analysis. This is an approximate and proxy way of determining the polarity (positivity/negativity) of a review.\n",
    "\n",
    "\n"
   ]
  },
  {
   "cell_type": "markdown",
   "metadata": {},
   "source": [
    "# [1]. Reading Data"
   ]
  },
  {
   "cell_type": "markdown",
   "metadata": {},
   "source": [
    "## [1.1] Loading the data\n",
    "\n",
    "The dataset is available in two forms\n",
    "1. .csv file\n",
    "2. SQLite Database\n",
    "\n",
    "In order to load the data, We have used the SQLITE dataset as it is easier to query the data and visualise the data efficiently.\n",
    "<br> \n",
    "\n",
    "Here as we only want to get the global sentiment of the recommendations (positive or negative), we will purposefully ignore all Scores equal to 3. If the score is above 3, then the recommendation wil be set to \"positive\". Otherwise, it will be set to \"negative\"."
   ]
  },
  {
   "cell_type": "code",
   "execution_count": 5,
   "metadata": {},
   "outputs": [],
   "source": [
    "%matplotlib inline\n",
    "import warnings\n",
    "warnings.filterwarnings(\"ignore\")\n",
    "\n",
    "import sqlite3\n",
    "import pandas as pd\n",
    "import numpy as np\n",
    "import string\n",
    "import matplotlib.pyplot as plt\n",
    "import seaborn as sns\n",
    "from sklearn import metrics"
   ]
  },
  {
   "cell_type": "code",
   "execution_count": 21,
   "metadata": {},
   "outputs": [
    {
     "name": "stdout",
     "output_type": "stream",
     "text": [
      "Number of data points in our data (364171, 12)\n",
      "Number of data points in our data (364171, 12)\n",
      "Number of data points in our data (364171, 12)\n",
      "Number of data points in our data (364171, 12)\n"
     ]
    }
   ],
   "source": [
    "con = sqlite3.connect('C:/Users/vinay/knn/final1.sqlite') \n",
    "filtered_data = pd.read_sql_query(\"\"\" SELECT * FROM Reviews \"\"\", con) \n",
    "print(\"Number of data points in our data\", filtered_data.shape)"
   ]
  },
  {
   "cell_type": "markdown",
   "metadata": {},
   "source": [
    "### sorting the data according to the timestamp"
   ]
  },
  {
   "cell_type": "code",
   "execution_count": 20,
   "metadata": {
    "scrolled": true
   },
   "outputs": [
    {
     "data": {
      "text/html": [
       "<div>\n",
       "<style scoped>\n",
       "    .dataframe tbody tr th:only-of-type {\n",
       "        vertical-align: middle;\n",
       "    }\n",
       "\n",
       "    .dataframe tbody tr th {\n",
       "        vertical-align: top;\n",
       "    }\n",
       "\n",
       "    .dataframe thead th {\n",
       "        text-align: right;\n",
       "    }\n",
       "</style>\n",
       "<table border=\"1\" class=\"dataframe\">\n",
       "  <thead>\n",
       "    <tr style=\"text-align: right;\">\n",
       "      <th></th>\n",
       "      <th>index</th>\n",
       "      <th>Id</th>\n",
       "      <th>ProductId</th>\n",
       "      <th>UserId</th>\n",
       "      <th>ProfileName</th>\n",
       "      <th>HelpfulnessNumerator</th>\n",
       "      <th>HelpfulnessDenominator</th>\n",
       "      <th>Score</th>\n",
       "      <th>Time</th>\n",
       "      <th>Summary</th>\n",
       "      <th>Text</th>\n",
       "      <th>CleanedText</th>\n",
       "    </tr>\n",
       "  </thead>\n",
       "  <tbody>\n",
       "    <tr>\n",
       "      <th>117924</th>\n",
       "      <td>138706</td>\n",
       "      <td>150524</td>\n",
       "      <td>0006641040</td>\n",
       "      <td>ACITT7DI6IDDL</td>\n",
       "      <td>shari zychinski</td>\n",
       "      <td>0</td>\n",
       "      <td>0</td>\n",
       "      <td>positive</td>\n",
       "      <td>939340800</td>\n",
       "      <td>EVERY book is educational</td>\n",
       "      <td>this witty little book makes my son laugh at l...</td>\n",
       "      <td>b'witti littl book make son laugh loud recit c...</td>\n",
       "    </tr>\n",
       "    <tr>\n",
       "      <th>117901</th>\n",
       "      <td>138683</td>\n",
       "      <td>150501</td>\n",
       "      <td>0006641040</td>\n",
       "      <td>AJ46FKXOVC7NR</td>\n",
       "      <td>Nicholas A Mesiano</td>\n",
       "      <td>2</td>\n",
       "      <td>2</td>\n",
       "      <td>positive</td>\n",
       "      <td>940809600</td>\n",
       "      <td>This whole series is great way to spend time w...</td>\n",
       "      <td>I can remember seeing the show when it aired o...</td>\n",
       "      <td>b'rememb see show air televis year ago child s...</td>\n",
       "    </tr>\n",
       "    <tr>\n",
       "      <th>298792</th>\n",
       "      <td>417839</td>\n",
       "      <td>451856</td>\n",
       "      <td>B00004CXX9</td>\n",
       "      <td>AIUWLEQ1ADEG5</td>\n",
       "      <td>Elizabeth Medina</td>\n",
       "      <td>0</td>\n",
       "      <td>0</td>\n",
       "      <td>positive</td>\n",
       "      <td>944092800</td>\n",
       "      <td>Entertainingl Funny!</td>\n",
       "      <td>Beetlejuice is a well written movie ..... ever...</td>\n",
       "      <td>b'beetlejuic well written movi everyth excel a...</td>\n",
       "    </tr>\n",
       "    <tr>\n",
       "      <th>169281</th>\n",
       "      <td>212472</td>\n",
       "      <td>230285</td>\n",
       "      <td>B00004RYGX</td>\n",
       "      <td>A344SMIA5JECGM</td>\n",
       "      <td>Vincent P. Ross</td>\n",
       "      <td>1</td>\n",
       "      <td>2</td>\n",
       "      <td>positive</td>\n",
       "      <td>944438400</td>\n",
       "      <td>A modern day fairy tale</td>\n",
       "      <td>A twist of rumplestiskin captured on film, sta...</td>\n",
       "      <td>b'twist rumplestiskin captur film star michael...</td>\n",
       "    </tr>\n",
       "    <tr>\n",
       "      <th>298791</th>\n",
       "      <td>417838</td>\n",
       "      <td>451855</td>\n",
       "      <td>B00004CXX9</td>\n",
       "      <td>AJH6LUC1UT1ON</td>\n",
       "      <td>The Phantom of the Opera</td>\n",
       "      <td>0</td>\n",
       "      <td>0</td>\n",
       "      <td>positive</td>\n",
       "      <td>946857600</td>\n",
       "      <td>FANTASTIC!</td>\n",
       "      <td>Beetlejuice is an excellent and funny movie. K...</td>\n",
       "      <td>b'beetlejuic excel funni movi keaton hilari wa...</td>\n",
       "    </tr>\n",
       "  </tbody>\n",
       "</table>\n",
       "</div>"
      ],
      "text/plain": [
       "         index      Id   ProductId          UserId               ProfileName  \\\n",
       "117924  138706  150524  0006641040   ACITT7DI6IDDL           shari zychinski   \n",
       "117901  138683  150501  0006641040   AJ46FKXOVC7NR        Nicholas A Mesiano   \n",
       "298792  417839  451856  B00004CXX9   AIUWLEQ1ADEG5          Elizabeth Medina   \n",
       "169281  212472  230285  B00004RYGX  A344SMIA5JECGM           Vincent P. Ross   \n",
       "298791  417838  451855  B00004CXX9   AJH6LUC1UT1ON  The Phantom of the Opera   \n",
       "\n",
       "        HelpfulnessNumerator  HelpfulnessDenominator     Score       Time  \\\n",
       "117924                     0                       0  positive  939340800   \n",
       "117901                     2                       2  positive  940809600   \n",
       "298792                     0                       0  positive  944092800   \n",
       "169281                     1                       2  positive  944438400   \n",
       "298791                     0                       0  positive  946857600   \n",
       "\n",
       "                                                  Summary  \\\n",
       "117924                          EVERY book is educational   \n",
       "117901  This whole series is great way to spend time w...   \n",
       "298792                               Entertainingl Funny!   \n",
       "169281                            A modern day fairy tale   \n",
       "298791                                         FANTASTIC!   \n",
       "\n",
       "                                                     Text  \\\n",
       "117924  this witty little book makes my son laugh at l...   \n",
       "117901  I can remember seeing the show when it aired o...   \n",
       "298792  Beetlejuice is a well written movie ..... ever...   \n",
       "169281  A twist of rumplestiskin captured on film, sta...   \n",
       "298791  Beetlejuice is an excellent and funny movie. K...   \n",
       "\n",
       "                                              CleanedText  \n",
       "117924  b'witti littl book make son laugh loud recit c...  \n",
       "117901  b'rememb see show air televis year ago child s...  \n",
       "298792  b'beetlejuic well written movi everyth excel a...  \n",
       "169281  b'twist rumplestiskin captur film star michael...  \n",
       "298791  b'beetlejuic excel funni movi keaton hilari wa...  "
      ]
     },
     "execution_count": 20,
     "metadata": {},
     "output_type": "execute_result"
    },
    {
     "data": {
      "text/html": [
       "<div>\n",
       "<style scoped>\n",
       "    .dataframe tbody tr th:only-of-type {\n",
       "        vertical-align: middle;\n",
       "    }\n",
       "\n",
       "    .dataframe tbody tr th {\n",
       "        vertical-align: top;\n",
       "    }\n",
       "\n",
       "    .dataframe thead th {\n",
       "        text-align: right;\n",
       "    }\n",
       "</style>\n",
       "<table border=\"1\" class=\"dataframe\">\n",
       "  <thead>\n",
       "    <tr style=\"text-align: right;\">\n",
       "      <th></th>\n",
       "      <th>index</th>\n",
       "      <th>Id</th>\n",
       "      <th>ProductId</th>\n",
       "      <th>UserId</th>\n",
       "      <th>ProfileName</th>\n",
       "      <th>HelpfulnessNumerator</th>\n",
       "      <th>HelpfulnessDenominator</th>\n",
       "      <th>Score</th>\n",
       "      <th>Time</th>\n",
       "      <th>Summary</th>\n",
       "      <th>Text</th>\n",
       "      <th>CleanedText</th>\n",
       "    </tr>\n",
       "  </thead>\n",
       "  <tbody>\n",
       "    <tr>\n",
       "      <th>117924</th>\n",
       "      <td>138706</td>\n",
       "      <td>150524</td>\n",
       "      <td>0006641040</td>\n",
       "      <td>ACITT7DI6IDDL</td>\n",
       "      <td>shari zychinski</td>\n",
       "      <td>0</td>\n",
       "      <td>0</td>\n",
       "      <td>positive</td>\n",
       "      <td>939340800</td>\n",
       "      <td>EVERY book is educational</td>\n",
       "      <td>this witty little book makes my son laugh at l...</td>\n",
       "      <td>b'witti littl book make son laugh loud recit c...</td>\n",
       "    </tr>\n",
       "    <tr>\n",
       "      <th>117901</th>\n",
       "      <td>138683</td>\n",
       "      <td>150501</td>\n",
       "      <td>0006641040</td>\n",
       "      <td>AJ46FKXOVC7NR</td>\n",
       "      <td>Nicholas A Mesiano</td>\n",
       "      <td>2</td>\n",
       "      <td>2</td>\n",
       "      <td>positive</td>\n",
       "      <td>940809600</td>\n",
       "      <td>This whole series is great way to spend time w...</td>\n",
       "      <td>I can remember seeing the show when it aired o...</td>\n",
       "      <td>b'rememb see show air televis year ago child s...</td>\n",
       "    </tr>\n",
       "    <tr>\n",
       "      <th>298792</th>\n",
       "      <td>417839</td>\n",
       "      <td>451856</td>\n",
       "      <td>B00004CXX9</td>\n",
       "      <td>AIUWLEQ1ADEG5</td>\n",
       "      <td>Elizabeth Medina</td>\n",
       "      <td>0</td>\n",
       "      <td>0</td>\n",
       "      <td>positive</td>\n",
       "      <td>944092800</td>\n",
       "      <td>Entertainingl Funny!</td>\n",
       "      <td>Beetlejuice is a well written movie ..... ever...</td>\n",
       "      <td>b'beetlejuic well written movi everyth excel a...</td>\n",
       "    </tr>\n",
       "    <tr>\n",
       "      <th>169281</th>\n",
       "      <td>212472</td>\n",
       "      <td>230285</td>\n",
       "      <td>B00004RYGX</td>\n",
       "      <td>A344SMIA5JECGM</td>\n",
       "      <td>Vincent P. Ross</td>\n",
       "      <td>1</td>\n",
       "      <td>2</td>\n",
       "      <td>positive</td>\n",
       "      <td>944438400</td>\n",
       "      <td>A modern day fairy tale</td>\n",
       "      <td>A twist of rumplestiskin captured on film, sta...</td>\n",
       "      <td>b'twist rumplestiskin captur film star michael...</td>\n",
       "    </tr>\n",
       "    <tr>\n",
       "      <th>298791</th>\n",
       "      <td>417838</td>\n",
       "      <td>451855</td>\n",
       "      <td>B00004CXX9</td>\n",
       "      <td>AJH6LUC1UT1ON</td>\n",
       "      <td>The Phantom of the Opera</td>\n",
       "      <td>0</td>\n",
       "      <td>0</td>\n",
       "      <td>positive</td>\n",
       "      <td>946857600</td>\n",
       "      <td>FANTASTIC!</td>\n",
       "      <td>Beetlejuice is an excellent and funny movie. K...</td>\n",
       "      <td>b'beetlejuic excel funni movi keaton hilari wa...</td>\n",
       "    </tr>\n",
       "  </tbody>\n",
       "</table>\n",
       "</div>"
      ],
      "text/plain": [
       "         index      Id   ProductId          UserId               ProfileName  \\\n",
       "117924  138706  150524  0006641040   ACITT7DI6IDDL           shari zychinski   \n",
       "117901  138683  150501  0006641040   AJ46FKXOVC7NR        Nicholas A Mesiano   \n",
       "298792  417839  451856  B00004CXX9   AIUWLEQ1ADEG5          Elizabeth Medina   \n",
       "169281  212472  230285  B00004RYGX  A344SMIA5JECGM           Vincent P. Ross   \n",
       "298791  417838  451855  B00004CXX9   AJH6LUC1UT1ON  The Phantom of the Opera   \n",
       "\n",
       "        HelpfulnessNumerator  HelpfulnessDenominator     Score       Time  \\\n",
       "117924                     0                       0  positive  939340800   \n",
       "117901                     2                       2  positive  940809600   \n",
       "298792                     0                       0  positive  944092800   \n",
       "169281                     1                       2  positive  944438400   \n",
       "298791                     0                       0  positive  946857600   \n",
       "\n",
       "                                                  Summary  \\\n",
       "117924                          EVERY book is educational   \n",
       "117901  This whole series is great way to spend time w...   \n",
       "298792                               Entertainingl Funny!   \n",
       "169281                            A modern day fairy tale   \n",
       "298791                                         FANTASTIC!   \n",
       "\n",
       "                                                     Text  \\\n",
       "117924  this witty little book makes my son laugh at l...   \n",
       "117901  I can remember seeing the show when it aired o...   \n",
       "298792  Beetlejuice is a well written movie ..... ever...   \n",
       "169281  A twist of rumplestiskin captured on film, sta...   \n",
       "298791  Beetlejuice is an excellent and funny movie. K...   \n",
       "\n",
       "                                              CleanedText  \n",
       "117924  b'witti littl book make son laugh loud recit c...  \n",
       "117901  b'rememb see show air televis year ago child s...  \n",
       "298792  b'beetlejuic well written movi everyth excel a...  \n",
       "169281  b'twist rumplestiskin captur film star michael...  \n",
       "298791  b'beetlejuic excel funni movi keaton hilari wa...  "
      ]
     },
     "execution_count": 20,
     "metadata": {},
     "output_type": "execute_result"
    },
    {
     "data": {
      "text/html": [
       "<div>\n",
       "<style scoped>\n",
       "    .dataframe tbody tr th:only-of-type {\n",
       "        vertical-align: middle;\n",
       "    }\n",
       "\n",
       "    .dataframe tbody tr th {\n",
       "        vertical-align: top;\n",
       "    }\n",
       "\n",
       "    .dataframe thead th {\n",
       "        text-align: right;\n",
       "    }\n",
       "</style>\n",
       "<table border=\"1\" class=\"dataframe\">\n",
       "  <thead>\n",
       "    <tr style=\"text-align: right;\">\n",
       "      <th></th>\n",
       "      <th>index</th>\n",
       "      <th>Id</th>\n",
       "      <th>ProductId</th>\n",
       "      <th>UserId</th>\n",
       "      <th>ProfileName</th>\n",
       "      <th>HelpfulnessNumerator</th>\n",
       "      <th>HelpfulnessDenominator</th>\n",
       "      <th>Score</th>\n",
       "      <th>Time</th>\n",
       "      <th>Summary</th>\n",
       "      <th>Text</th>\n",
       "      <th>CleanedText</th>\n",
       "    </tr>\n",
       "  </thead>\n",
       "  <tbody>\n",
       "    <tr>\n",
       "      <th>117924</th>\n",
       "      <td>138706</td>\n",
       "      <td>150524</td>\n",
       "      <td>0006641040</td>\n",
       "      <td>ACITT7DI6IDDL</td>\n",
       "      <td>shari zychinski</td>\n",
       "      <td>0</td>\n",
       "      <td>0</td>\n",
       "      <td>positive</td>\n",
       "      <td>939340800</td>\n",
       "      <td>EVERY book is educational</td>\n",
       "      <td>this witty little book makes my son laugh at l...</td>\n",
       "      <td>b'witti littl book make son laugh loud recit c...</td>\n",
       "    </tr>\n",
       "    <tr>\n",
       "      <th>117901</th>\n",
       "      <td>138683</td>\n",
       "      <td>150501</td>\n",
       "      <td>0006641040</td>\n",
       "      <td>AJ46FKXOVC7NR</td>\n",
       "      <td>Nicholas A Mesiano</td>\n",
       "      <td>2</td>\n",
       "      <td>2</td>\n",
       "      <td>positive</td>\n",
       "      <td>940809600</td>\n",
       "      <td>This whole series is great way to spend time w...</td>\n",
       "      <td>I can remember seeing the show when it aired o...</td>\n",
       "      <td>b'rememb see show air televis year ago child s...</td>\n",
       "    </tr>\n",
       "    <tr>\n",
       "      <th>298792</th>\n",
       "      <td>417839</td>\n",
       "      <td>451856</td>\n",
       "      <td>B00004CXX9</td>\n",
       "      <td>AIUWLEQ1ADEG5</td>\n",
       "      <td>Elizabeth Medina</td>\n",
       "      <td>0</td>\n",
       "      <td>0</td>\n",
       "      <td>positive</td>\n",
       "      <td>944092800</td>\n",
       "      <td>Entertainingl Funny!</td>\n",
       "      <td>Beetlejuice is a well written movie ..... ever...</td>\n",
       "      <td>b'beetlejuic well written movi everyth excel a...</td>\n",
       "    </tr>\n",
       "    <tr>\n",
       "      <th>169281</th>\n",
       "      <td>212472</td>\n",
       "      <td>230285</td>\n",
       "      <td>B00004RYGX</td>\n",
       "      <td>A344SMIA5JECGM</td>\n",
       "      <td>Vincent P. Ross</td>\n",
       "      <td>1</td>\n",
       "      <td>2</td>\n",
       "      <td>positive</td>\n",
       "      <td>944438400</td>\n",
       "      <td>A modern day fairy tale</td>\n",
       "      <td>A twist of rumplestiskin captured on film, sta...</td>\n",
       "      <td>b'twist rumplestiskin captur film star michael...</td>\n",
       "    </tr>\n",
       "    <tr>\n",
       "      <th>298791</th>\n",
       "      <td>417838</td>\n",
       "      <td>451855</td>\n",
       "      <td>B00004CXX9</td>\n",
       "      <td>AJH6LUC1UT1ON</td>\n",
       "      <td>The Phantom of the Opera</td>\n",
       "      <td>0</td>\n",
       "      <td>0</td>\n",
       "      <td>positive</td>\n",
       "      <td>946857600</td>\n",
       "      <td>FANTASTIC!</td>\n",
       "      <td>Beetlejuice is an excellent and funny movie. K...</td>\n",
       "      <td>b'beetlejuic excel funni movi keaton hilari wa...</td>\n",
       "    </tr>\n",
       "  </tbody>\n",
       "</table>\n",
       "</div>"
      ],
      "text/plain": [
       "         index      Id   ProductId          UserId               ProfileName  \\\n",
       "117924  138706  150524  0006641040   ACITT7DI6IDDL           shari zychinski   \n",
       "117901  138683  150501  0006641040   AJ46FKXOVC7NR        Nicholas A Mesiano   \n",
       "298792  417839  451856  B00004CXX9   AIUWLEQ1ADEG5          Elizabeth Medina   \n",
       "169281  212472  230285  B00004RYGX  A344SMIA5JECGM           Vincent P. Ross   \n",
       "298791  417838  451855  B00004CXX9   AJH6LUC1UT1ON  The Phantom of the Opera   \n",
       "\n",
       "        HelpfulnessNumerator  HelpfulnessDenominator     Score       Time  \\\n",
       "117924                     0                       0  positive  939340800   \n",
       "117901                     2                       2  positive  940809600   \n",
       "298792                     0                       0  positive  944092800   \n",
       "169281                     1                       2  positive  944438400   \n",
       "298791                     0                       0  positive  946857600   \n",
       "\n",
       "                                                  Summary  \\\n",
       "117924                          EVERY book is educational   \n",
       "117901  This whole series is great way to spend time w...   \n",
       "298792                               Entertainingl Funny!   \n",
       "169281                            A modern day fairy tale   \n",
       "298791                                         FANTASTIC!   \n",
       "\n",
       "                                                     Text  \\\n",
       "117924  this witty little book makes my son laugh at l...   \n",
       "117901  I can remember seeing the show when it aired o...   \n",
       "298792  Beetlejuice is a well written movie ..... ever...   \n",
       "169281  A twist of rumplestiskin captured on film, sta...   \n",
       "298791  Beetlejuice is an excellent and funny movie. K...   \n",
       "\n",
       "                                              CleanedText  \n",
       "117924  b'witti littl book make son laugh loud recit c...  \n",
       "117901  b'rememb see show air televis year ago child s...  \n",
       "298792  b'beetlejuic well written movi everyth excel a...  \n",
       "169281  b'twist rumplestiskin captur film star michael...  \n",
       "298791  b'beetlejuic excel funni movi keaton hilari wa...  "
      ]
     },
     "execution_count": 20,
     "metadata": {},
     "output_type": "execute_result"
    },
    {
     "data": {
      "text/html": [
       "<div>\n",
       "<style scoped>\n",
       "    .dataframe tbody tr th:only-of-type {\n",
       "        vertical-align: middle;\n",
       "    }\n",
       "\n",
       "    .dataframe tbody tr th {\n",
       "        vertical-align: top;\n",
       "    }\n",
       "\n",
       "    .dataframe thead th {\n",
       "        text-align: right;\n",
       "    }\n",
       "</style>\n",
       "<table border=\"1\" class=\"dataframe\">\n",
       "  <thead>\n",
       "    <tr style=\"text-align: right;\">\n",
       "      <th></th>\n",
       "      <th>index</th>\n",
       "      <th>Id</th>\n",
       "      <th>ProductId</th>\n",
       "      <th>UserId</th>\n",
       "      <th>ProfileName</th>\n",
       "      <th>HelpfulnessNumerator</th>\n",
       "      <th>HelpfulnessDenominator</th>\n",
       "      <th>Score</th>\n",
       "      <th>Time</th>\n",
       "      <th>Summary</th>\n",
       "      <th>Text</th>\n",
       "      <th>CleanedText</th>\n",
       "    </tr>\n",
       "  </thead>\n",
       "  <tbody>\n",
       "    <tr>\n",
       "      <th>117924</th>\n",
       "      <td>138706</td>\n",
       "      <td>150524</td>\n",
       "      <td>0006641040</td>\n",
       "      <td>ACITT7DI6IDDL</td>\n",
       "      <td>shari zychinski</td>\n",
       "      <td>0</td>\n",
       "      <td>0</td>\n",
       "      <td>positive</td>\n",
       "      <td>939340800</td>\n",
       "      <td>EVERY book is educational</td>\n",
       "      <td>this witty little book makes my son laugh at l...</td>\n",
       "      <td>b'witti littl book make son laugh loud recit c...</td>\n",
       "    </tr>\n",
       "    <tr>\n",
       "      <th>117901</th>\n",
       "      <td>138683</td>\n",
       "      <td>150501</td>\n",
       "      <td>0006641040</td>\n",
       "      <td>AJ46FKXOVC7NR</td>\n",
       "      <td>Nicholas A Mesiano</td>\n",
       "      <td>2</td>\n",
       "      <td>2</td>\n",
       "      <td>positive</td>\n",
       "      <td>940809600</td>\n",
       "      <td>This whole series is great way to spend time w...</td>\n",
       "      <td>I can remember seeing the show when it aired o...</td>\n",
       "      <td>b'rememb see show air televis year ago child s...</td>\n",
       "    </tr>\n",
       "    <tr>\n",
       "      <th>298792</th>\n",
       "      <td>417839</td>\n",
       "      <td>451856</td>\n",
       "      <td>B00004CXX9</td>\n",
       "      <td>AIUWLEQ1ADEG5</td>\n",
       "      <td>Elizabeth Medina</td>\n",
       "      <td>0</td>\n",
       "      <td>0</td>\n",
       "      <td>positive</td>\n",
       "      <td>944092800</td>\n",
       "      <td>Entertainingl Funny!</td>\n",
       "      <td>Beetlejuice is a well written movie ..... ever...</td>\n",
       "      <td>b'beetlejuic well written movi everyth excel a...</td>\n",
       "    </tr>\n",
       "    <tr>\n",
       "      <th>169281</th>\n",
       "      <td>212472</td>\n",
       "      <td>230285</td>\n",
       "      <td>B00004RYGX</td>\n",
       "      <td>A344SMIA5JECGM</td>\n",
       "      <td>Vincent P. Ross</td>\n",
       "      <td>1</td>\n",
       "      <td>2</td>\n",
       "      <td>positive</td>\n",
       "      <td>944438400</td>\n",
       "      <td>A modern day fairy tale</td>\n",
       "      <td>A twist of rumplestiskin captured on film, sta...</td>\n",
       "      <td>b'twist rumplestiskin captur film star michael...</td>\n",
       "    </tr>\n",
       "    <tr>\n",
       "      <th>298791</th>\n",
       "      <td>417838</td>\n",
       "      <td>451855</td>\n",
       "      <td>B00004CXX9</td>\n",
       "      <td>AJH6LUC1UT1ON</td>\n",
       "      <td>The Phantom of the Opera</td>\n",
       "      <td>0</td>\n",
       "      <td>0</td>\n",
       "      <td>positive</td>\n",
       "      <td>946857600</td>\n",
       "      <td>FANTASTIC!</td>\n",
       "      <td>Beetlejuice is an excellent and funny movie. K...</td>\n",
       "      <td>b'beetlejuic excel funni movi keaton hilari wa...</td>\n",
       "    </tr>\n",
       "  </tbody>\n",
       "</table>\n",
       "</div>"
      ],
      "text/plain": [
       "         index      Id   ProductId          UserId               ProfileName  \\\n",
       "117924  138706  150524  0006641040   ACITT7DI6IDDL           shari zychinski   \n",
       "117901  138683  150501  0006641040   AJ46FKXOVC7NR        Nicholas A Mesiano   \n",
       "298792  417839  451856  B00004CXX9   AIUWLEQ1ADEG5          Elizabeth Medina   \n",
       "169281  212472  230285  B00004RYGX  A344SMIA5JECGM           Vincent P. Ross   \n",
       "298791  417838  451855  B00004CXX9   AJH6LUC1UT1ON  The Phantom of the Opera   \n",
       "\n",
       "        HelpfulnessNumerator  HelpfulnessDenominator     Score       Time  \\\n",
       "117924                     0                       0  positive  939340800   \n",
       "117901                     2                       2  positive  940809600   \n",
       "298792                     0                       0  positive  944092800   \n",
       "169281                     1                       2  positive  944438400   \n",
       "298791                     0                       0  positive  946857600   \n",
       "\n",
       "                                                  Summary  \\\n",
       "117924                          EVERY book is educational   \n",
       "117901  This whole series is great way to spend time w...   \n",
       "298792                               Entertainingl Funny!   \n",
       "169281                            A modern day fairy tale   \n",
       "298791                                         FANTASTIC!   \n",
       "\n",
       "                                                     Text  \\\n",
       "117924  this witty little book makes my son laugh at l...   \n",
       "117901  I can remember seeing the show when it aired o...   \n",
       "298792  Beetlejuice is a well written movie ..... ever...   \n",
       "169281  A twist of rumplestiskin captured on film, sta...   \n",
       "298791  Beetlejuice is an excellent and funny movie. K...   \n",
       "\n",
       "                                              CleanedText  \n",
       "117924  b'witti littl book make son laugh loud recit c...  \n",
       "117901  b'rememb see show air televis year ago child s...  \n",
       "298792  b'beetlejuic well written movi everyth excel a...  \n",
       "169281  b'twist rumplestiskin captur film star michael...  \n",
       "298791  b'beetlejuic excel funni movi keaton hilari wa...  "
      ]
     },
     "execution_count": 20,
     "metadata": {},
     "output_type": "execute_result"
    }
   ],
   "source": [
    "sorted_data=filtered_data.sort_values('Time', axis=0, ascending=True, inplace=False, kind='quicksort', na_position='last')\n",
    "sorted_data.head()"
   ]
  },
  {
   "cell_type": "code",
   "execution_count": 19,
   "metadata": {},
   "outputs": [
    {
     "name": "stdout",
     "output_type": "stream",
     "text": [
      "(50000, 12)\n"
     ]
    },
    {
     "data": {
      "text/plain": [
       "positive    44377\n",
       "negative     5623\n",
       "Name: Score, dtype: int64"
      ]
     },
     "execution_count": 19,
     "metadata": {},
     "output_type": "execute_result"
    },
    {
     "name": "stdout",
     "output_type": "stream",
     "text": [
      "(50000, 12)\n"
     ]
    },
    {
     "data": {
      "text/plain": [
       "positive    44377\n",
       "negative     5623\n",
       "Name: Score, dtype: int64"
      ]
     },
     "execution_count": 19,
     "metadata": {},
     "output_type": "execute_result"
    },
    {
     "name": "stdout",
     "output_type": "stream",
     "text": [
      "(50000, 12)\n"
     ]
    },
    {
     "data": {
      "text/plain": [
       "positive    44377\n",
       "negative     5623\n",
       "Name: Score, dtype: int64"
      ]
     },
     "execution_count": 19,
     "metadata": {},
     "output_type": "execute_result"
    },
    {
     "name": "stdout",
     "output_type": "stream",
     "text": [
      "(50000, 12)\n"
     ]
    },
    {
     "data": {
      "text/plain": [
       "positive    44377\n",
       "negative     5623\n",
       "Name: Score, dtype: int64"
      ]
     },
     "execution_count": 19,
     "metadata": {},
     "output_type": "execute_result"
    }
   ],
   "source": [
    "#Before starting the next phase of preprocessing lets see the number of entries left\n",
    "print(sorted_data.shape)\n",
    "\n",
    "#How many positive and negative reviews are present in our dataset?\n",
    "sorted_data['Score'].value_counts()"
   ]
  },
  {
   "cell_type": "code",
   "execution_count": 9,
   "metadata": {},
   "outputs": [
    {
     "data": {
      "text/plain": [
       "positive    44377\n",
       "negative     5623\n",
       "Name: Score, dtype: int64"
      ]
     },
     "execution_count": 9,
     "metadata": {},
     "output_type": "execute_result"
    },
    {
     "data": {
      "text/plain": [
       "positive    44377\n",
       "negative     5623\n",
       "Name: Score, dtype: int64"
      ]
     },
     "execution_count": 9,
     "metadata": {},
     "output_type": "execute_result"
    },
    {
     "data": {
      "text/plain": [
       "positive    44377\n",
       "negative     5623\n",
       "Name: Score, dtype: int64"
      ]
     },
     "execution_count": 9,
     "metadata": {},
     "output_type": "execute_result"
    },
    {
     "data": {
      "text/plain": [
       "positive    44377\n",
       "negative     5623\n",
       "Name: Score, dtype: int64"
      ]
     },
     "execution_count": 9,
     "metadata": {},
     "output_type": "execute_result"
    }
   ],
   "source": [
    "# i took 100k review\n",
    "sorted_data=sorted_data[0:50000]\n",
    "sorted_data['Score'].value_counts()"
   ]
  },
  {
   "cell_type": "code",
   "execution_count": 10,
   "metadata": {},
   "outputs": [
    {
     "name": "stderr",
     "output_type": "stream",
     "text": [
      "C:\\Users\\vinay\\Anaconda3\\lib\\site-packages\\sklearn\\cross_validation.py:41: DeprecationWarning: This module was deprecated in version 0.18 in favor of the model_selection module into which all the refactored classes and functions are moved. Also note that the interface of the new CV iterators are different from that of this module. This module will be removed in 0.20.\n",
      "  \"This module will be removed in 0.20.\", DeprecationWarning)\n",
      "C:\\Users\\vinay\\Anaconda3\\lib\\site-packages\\sklearn\\cross_validation.py:41: DeprecationWarning: This module was deprecated in version 0.18 in favor of the model_selection module into which all the refactored classes and functions are moved. Also note that the interface of the new CV iterators are different from that of this module. This module will be removed in 0.20.\n",
      "  \"This module will be removed in 0.20.\", DeprecationWarning)\n",
      "C:\\Users\\vinay\\Anaconda3\\lib\\site-packages\\sklearn\\cross_validation.py:41: DeprecationWarning: This module was deprecated in version 0.18 in favor of the model_selection module into which all the refactored classes and functions are moved. Also note that the interface of the new CV iterators are different from that of this module. This module will be removed in 0.20.\n",
      "  \"This module will be removed in 0.20.\", DeprecationWarning)\n",
      "C:\\Users\\vinay\\Anaconda3\\lib\\site-packages\\sklearn\\cross_validation.py:41: DeprecationWarning: This module was deprecated in version 0.18 in favor of the model_selection module into which all the refactored classes and functions are moved. Also note that the interface of the new CV iterators are different from that of this module. This module will be removed in 0.20.\n",
      "  \"This module will be removed in 0.20.\", DeprecationWarning)\n"
     ]
    }
   ],
   "source": [
    "#Importing all the necessary packages for performing Knn.\n",
    "import numpy as np\n",
    "import pandas as pd\n",
    "import matplotlib.pyplot as plt\n",
    "from sklearn.cross_validation import train_test_split\n",
    "from sklearn.neighbors import KNeighborsClassifier\n",
    "from sklearn.metrics import accuracy_score\n",
    "from sklearn.cross_validation import cross_val_score\n",
    "from collections import Counter\n",
    "from sklearn.metrics import accuracy_score\n",
    "from sklearn import cross_validation\n",
    "from sklearn.decomposition import TruncatedSVD\n",
    "from sklearn.metrics import accuracy_score,precision_score,recall_score,confusion_matrix,classification_report,f1_score"
   ]
  },
  {
   "cell_type": "code",
   "execution_count": 11,
   "metadata": {},
   "outputs": [],
   "source": [
    "X = sorted_data.CleanedText.values\n",
    "y = sorted_data.Score.values # showing you two ways of indexing a pandas df # We can see that there are 20000 reviews(rows)\n",
    "\n",
    "X_train, X_test,y_train, y_test = cross_validation.train_test_split(X, y, test_size=0.3, random_state=0)\n",
    "# split the train data set into cross validation train and cross validation test"
   ]
  },
  {
   "cell_type": "code",
   "execution_count": null,
   "metadata": {},
   "outputs": [],
   "source": []
  },
  {
   "cell_type": "markdown",
   "metadata": {},
   "source": [
    "# defining the function for all vectorizers"
   ]
  },
  {
   "cell_type": "code",
   "execution_count": 40,
   "metadata": {},
   "outputs": [],
   "source": [
    "\n",
    "def runKNN(X_train,y_train,X_test,y_test,VectorizationType):\n",
    "    from sklearn.preprocessing import LabelBinarizer\n",
    "    from sklearn.naive_bayes import MultinomialNB\n",
    "    cv_scores = []\n",
    "    cm_list=[]\n",
    "    algorithm = ['brute','kd_tree']\n",
    "    lb= LabelBinarizer()\n",
    "    y_train=np.array([number[0] for number in lb.fit_transform(y_train)])\n",
    "    y_test=np.array([number[0] for number in lb.fit_transform(y_test)])\n",
    "    \n",
    "    for algo in algorithm:\n",
    "        #print(algo)\n",
    "        # kd_tree cannot consume Sparse Matrix. Converting Sparse Matrix to Dense using Truncated SVD.\n",
    "        if algo == 'kd_tree':\n",
    "            svd = TruncatedSVD()\n",
    "            svd.fit(X_train)\n",
    "            X_train = svd.transform(X_train)\n",
    "            #X_cv    = svd.transform(X_cv)\n",
    "            X_test  = svd.transform(X_test)\n",
    " \n",
    "       # creating odd list of K for KNN\n",
    "        myList = list(range(0,25))\n",
    "        neighbors = list(filter(lambda x: x % 2 != 0, myList))\n",
    "\n",
    "        # empty list that will hold cv scores\n",
    "    \n",
    "        # perform 10-fold cross validation\n",
    "        for k in neighbors:\n",
    "            knn = KNeighborsClassifier(n_neighbors=k,algorithm=algo)\n",
    "            scores = cross_val_score(knn,X_train , y_train, cv=10, scoring='accuracy')\n",
    "            cv_scores.append(scores.mean())\n",
    "\n",
    "        # changing to misclassification error\n",
    "        MSE = [1 - x for x in cv_scores]\n",
    "\n",
    "        # determining best k\n",
    "        optimal_k = neighbors[MSE.index(min(MSE))]\n",
    "        #print('\\nThe optimal number of neighbors is %d.' % optimal_k)\n",
    "        \n",
    "        knn_optimal = KNeighborsClassifier(n_neighbors=optimal_k)\n",
    "\n",
    "        # fitting the model\n",
    "        knn_optimal.fit(X_train, y_train)\n",
    " \n",
    "         # predict the response\n",
    "        pred = []\n",
    "        for i in range(0,X_test.shape[0],1000): #(CHUNK of data)\n",
    "            pred.append(knn_optimal.predict_proba(X_test[i:i+1000])[:,1])\n",
    "            predict = np.hstack(pred)\n",
    "\n",
    "        # evaluate accuracy\n",
    "        #predict = knn_optimal.predict(X_test)\n",
    "        acc = accuracy_score(y_test, predict) * 100\n",
    "        #print('\\n The accuracy of the knn classifier for k = %d is %f%%' % (optimal_k, acc))\n",
    "        \n",
    "        print('Details for',algo,VectorizationType,'Vectorization:')\n",
    "        print('*'*100)\n",
    "        print('\\n')\n",
    "        \n",
    "        \n",
    "        \n",
    "        import sklearn.metrics as metrics\n",
    "        # calculate the fpr and tpr for all thresholds of the classification\n",
    "        fpr, tpr, threshold = metrics.roc_curve(y_test, predict)\n",
    "        roc_auc = metrics.auc(fpr, tpr)\n",
    "\n",
    "        # method I: plt\n",
    "       \n",
    "        plt.title('Receiver Operating Characteristic')\n",
    "        plt.plot(fpr, tpr, 'b', label = 'AUC = %0.2f' % roc_auc)\n",
    "        plt.legend(loc = 'lower right')\n",
    "        plt.plot([0, 1], [0, 1],'r--')\n",
    "        plt.xlim([0, 1])\n",
    "        plt.ylim([0, 1])\n",
    "        plt.ylabel('True Positive Rate')\n",
    "        plt.xlabel('False Positive Rate')\n",
    "        plt.show()     \n",
    "        print(\"The misclassification error for each k value is : \", np.round(MSE,3))\n",
    "        cm = confusion_matrix(y_test, predict)\n",
    "        class_label = [\"negative\", \"positive\"]\n",
    "        df_cm = pd.DataFrame(cm, index = class_label, columns = class_label)\n",
    "        sns.heatmap(df_cm, annot = True, fmt = \"d\")\n",
    "        plt.title(\"Confusion Matrix\")\n",
    "        plt.xlabel(\"Predicted Label\")\n",
    "        plt.ylabel(\"True Label\")\n",
    "        plt.show()\n",
    "        score=knn_optimal.score(X_test, y_test)\n",
    "        print('The F1 scoring on Test data is:', score)\n",
    "        print('\\n')\n",
    "        print('Accuracy for K Nearest Neighbours algorithm with alpha value =',optimal_k,', calculated using F1 as scoring metric is ' ,np.round(accuracy_score(y_test, predict)*100))  \n",
    "        print('missclassification error for each alpha=',np.round(MSE,3))\n",
    "        print('\\n')\n",
    "        print('f1 score for KNN algorithm with alpha =',optimal_k,' is ' , np.round((f1_score(y_test, predict,average= 'macro')*100),decimals = 2))\n",
    "        print('\\n')\n",
    "        print('Recall for KNN agorithm with alpha =',k,' is ' , np.round((recall_score(y_test, predict,average= 'macro')*100),decimals = 2))\n",
    "        print('\\n')\n",
    "        print('Precision for KNN algorithm with aplha =',k,' is ' , np.round((precision_score(y_test, predict,average= 'macro')*100),decimals = 2))\n",
    "        print('\\n')\n",
    "        print ('\\n Classification report for K Nearest Neighbours algorithm with alpha =',optimal_k,' is \\n ' , classification_report(y_test,predict))\n",
    "        print('Accuracy for',algo,' algorithm with K =',optimal_k,' is ' ,np.round(accuracy_score(y_test, predict)*100))\n",
    "        print('\\n')\n",
    "    return knn_optimal"
   ]
  },
  {
   "cell_type": "markdown",
   "metadata": {},
   "source": [
    "## knn on BAG OF WORDS"
   ]
  },
  {
   "cell_type": "code",
   "execution_count": 13,
   "metadata": {},
   "outputs": [
    {
     "name": "stdout",
     "output_type": "stream",
     "text": [
      "(35000, 500)\n",
      "(15000, 500)\n",
      "(35000, 500)\n",
      "(15000, 500)\n",
      "(35000, 500)\n",
      "(15000, 500)\n",
      "(35000, 500)\n",
      "(15000, 500)\n"
     ]
    }
   ],
   "source": [
    "from sklearn.feature_extraction.text import CountVectorizer\n",
    "count_vect = CountVectorizer(min_df=10, max_features=500) \n",
    "count_vect.fit(X_train)\n",
    "train_bow    =count_vect.transform(X_train)\n",
    "#cv_bow       =count_vect.transform(X_cv)\n",
    "test_bow     =count_vect.transform(X_test)\n",
    " # Here we fit transform to the data\n",
    "print(train_bow.get_shape()) # We can see that the data has 60k rows and max 500 features columns(unique words).\n",
    "print(test_bow.get_shape())"
   ]
  },
  {
   "cell_type": "code",
   "execution_count": 16,
   "metadata": {},
   "outputs": [
    {
     "name": "stdout",
     "output_type": "stream",
     "text": [
      "Details for brute Bag of Words Vectorization:\n",
      "****************************************************************************************************\n",
      "\n",
      "\n",
      "Details for brute Bag of Words Vectorization:\n",
      "****************************************************************************************************\n",
      "\n",
      "\n",
      "Details for brute Bag of Words Vectorization:\n",
      "****************************************************************************************************\n",
      "\n",
      "\n",
      "Details for brute Bag of Words Vectorization:\n",
      "****************************************************************************************************\n",
      "\n",
      "\n"
     ]
    },
    {
     "data": {
      "image/png": "[encoded data removed]",
      "text/plain": [
       "<Figure size 432x288 with 1 Axes>"
      ]
     },
     "metadata": {},
     "output_type": "display_data"
    },
    {
     "name": "stdout",
     "output_type": "stream",
     "text": [
      "The misclassification error for each k value is :  [0.179 0.133 0.119 0.114 0.111 0.111 0.111 0.111 0.111 0.112 0.112 0.112]\n"
     ]
    },
    {
     "data": {
      "image/png": "[encoded data removed]",
      "text/plain": [
       "<Figure size 432x288 with 1 Axes>"
      ]
     },
     "metadata": {},
     "output_type": "display_data"
    },
    {
     "name": "stdout",
     "output_type": "stream",
     "text": [
      "The misclassification error for each k value is :  [0.179 0.133 0.119 0.114 0.111 0.111 0.111 0.111 0.111 0.112 0.112 0.112]\n"
     ]
    },
    {
     "data": {
      "image/png": "[encoded data removed]",
      "text/plain": [
       "<Figure size 432x288 with 1 Axes>"
      ]
     },
     "metadata": {},
     "output_type": "display_data"
    },
    {
     "name": "stdout",
     "output_type": "stream",
     "text": [
      "The misclassification error for each k value is :  [0.179 0.133 0.119 0.114 0.111 0.111 0.111 0.111 0.111 0.112 0.112 0.112]\n"
     ]
    },
    {
     "data": {
      "image/png": "[encoded data removed]",
      "text/plain": [
       "<Figure size 432x288 with 1 Axes>"
      ]
     },
     "metadata": {},
     "output_type": "display_data"
    },
    {
     "name": "stdout",
     "output_type": "stream",
     "text": [
      "The misclassification error for each k value is :  [0.179 0.133 0.119 0.114 0.111 0.111 0.111 0.111 0.111 0.112 0.112 0.112]\n"
     ]
    },
    {
     "data": {
      "image/png": "[encoded data removed]",
      "text/plain": [
       "<Figure size 432x288 with 2 Axes>"
      ]
     },
     "metadata": {},
     "output_type": "display_data"
    },
    {
     "data": {
      "image/png": "[encoded data removed]",
      "text/plain": [
       "<Figure size 432x288 with 2 Axes>"
      ]
     },
     "metadata": {},
     "output_type": "display_data"
    },
    {
     "data": {
      "image/png": "[encoded data removed]",
      "text/plain": [
       "<Figure size 432x288 with 2 Axes>"
      ]
     },
     "metadata": {},
     "output_type": "display_data"
    },
    {
     "data": {
      "image/png": "[encoded data removed]",
      "text/plain": [
       "<Figure size 432x288 with 2 Axes>"
      ]
     },
     "metadata": {},
     "output_type": "display_data"
    },
    {
     "name": "stdout",
     "output_type": "stream",
     "text": [
      "The F1 scoring on Test data is: 0.8894\n",
      "\n",
      "\n",
      "Accuracy for K Nearest Neighbours algorithm with alpha value = 13 , calculated using F1 as scoring metric is  89.0\n",
      "missclassification error for each alpha= [0.179 0.133 0.119 0.114 0.111 0.111 0.111 0.111 0.111 0.112 0.112 0.112]\n",
      "\n",
      "\n",
      "f1 score for KNN algorithm with alpha = 13  is  50.95\n",
      "\n",
      "\n",
      "Recall for KNN agorithm with alpha = 23  is  51.88\n",
      "\n",
      "\n",
      "Precision for KNN algorithm with aplha = 23  is  72.17\n",
      "\n",
      "\n",
      "\n",
      " Classification report for K Nearest Neighbours algorithm with alpha = 13  is \n",
      "               precision    recall  f1-score   support\n",
      "\n",
      "          0       0.55      0.04      0.08      1672\n",
      "          1       0.89      1.00      0.94     13328\n",
      "\n",
      "avg / total       0.85      0.89      0.84     15000\n",
      "\n",
      "Accuracy for brute  algorithm with K = 13  is  89.0\n",
      "\n",
      "\n",
      "The F1 scoring on Test data is: 0.8894\n",
      "\n",
      "\n",
      "Accuracy for K Nearest Neighbours algorithm with alpha value = 13 , calculated using F1 as scoring metric is  89.0\n",
      "missclassification error for each alpha= [0.179 0.133 0.119 0.114 0.111 0.111 0.111 0.111 0.111 0.112 0.112 0.112]\n",
      "\n",
      "\n",
      "f1 score for KNN algorithm with alpha = 13  is  50.95\n",
      "\n",
      "\n",
      "Recall for KNN agorithm with alpha = 23  is  51.88\n",
      "\n",
      "\n",
      "Precision for KNN algorithm with aplha = 23  is  72.17\n",
      "\n",
      "\n",
      "\n",
      " Classification report for K Nearest Neighbours algorithm with alpha = 13  is \n",
      "               precision    recall  f1-score   support\n",
      "\n",
      "          0       0.55      0.04      0.08      1672\n",
      "          1       0.89      1.00      0.94     13328\n",
      "\n",
      "avg / total       0.85      0.89      0.84     15000\n",
      "\n",
      "Accuracy for brute  algorithm with K = 13  is  89.0\n",
      "\n",
      "\n",
      "The F1 scoring on Test data is: 0.8894\n",
      "\n",
      "\n",
      "Accuracy for K Nearest Neighbours algorithm with alpha value = 13 , calculated using F1 as scoring metric is  89.0\n",
      "missclassification error for each alpha= [0.179 0.133 0.119 0.114 0.111 0.111 0.111 0.111 0.111 0.112 0.112 0.112]\n",
      "\n",
      "\n",
      "f1 score for KNN algorithm with alpha = 13  is  50.95\n",
      "\n",
      "\n",
      "Recall for KNN agorithm with alpha = 23  is  51.88\n",
      "\n",
      "\n",
      "Precision for KNN algorithm with aplha = 23  is  72.17\n",
      "\n",
      "\n",
      "\n",
      " Classification report for K Nearest Neighbours algorithm with alpha = 13  is \n",
      "               precision    recall  f1-score   support\n",
      "\n",
      "          0       0.55      0.04      0.08      1672\n",
      "          1       0.89      1.00      0.94     13328\n",
      "\n",
      "avg / total       0.85      0.89      0.84     15000\n",
      "\n",
      "Accuracy for brute  algorithm with K = 13  is  89.0\n",
      "\n",
      "\n",
      "The F1 scoring on Test data is: 0.8894\n",
      "\n",
      "\n",
      "Accuracy for K Nearest Neighbours algorithm with alpha value = 13 , calculated using F1 as scoring metric is  89.0\n",
      "missclassification error for each alpha= [0.179 0.133 0.119 0.114 0.111 0.111 0.111 0.111 0.111 0.112 0.112 0.112]\n",
      "\n",
      "\n",
      "f1 score for KNN algorithm with alpha = 13  is  50.95\n",
      "\n",
      "\n",
      "Recall for KNN agorithm with alpha = 23  is  51.88\n",
      "\n",
      "\n",
      "Precision for KNN algorithm with aplha = 23  is  72.17\n",
      "\n",
      "\n",
      "\n",
      " Classification report for K Nearest Neighbours algorithm with alpha = 13  is \n",
      "               precision    recall  f1-score   support\n",
      "\n",
      "          0       0.55      0.04      0.08      1672\n",
      "          1       0.89      1.00      0.94     13328\n",
      "\n",
      "avg / total       0.85      0.89      0.84     15000\n",
      "\n",
      "Accuracy for brute  algorithm with K = 13  is  89.0\n",
      "\n",
      "\n",
      "Details for kd_tree Bag of Words Vectorization:\n",
      "****************************************************************************************************\n",
      "\n",
      "\n",
      "Details for kd_tree Bag of Words Vectorization:\n",
      "****************************************************************************************************\n",
      "\n",
      "\n",
      "Details for kd_tree Bag of Words Vectorization:\n",
      "****************************************************************************************************\n",
      "\n",
      "\n",
      "Details for kd_tree Bag of Words Vectorization:\n",
      "****************************************************************************************************\n",
      "\n",
      "\n"
     ]
    },
    {
     "data": {
      "image/png": "[encoded data removed]",
      "text/plain": [
       "<Figure size 432x288 with 1 Axes>"
      ]
     },
     "metadata": {},
     "output_type": "display_data"
    },
    {
     "name": "stdout",
     "output_type": "stream",
     "text": [
      "The misclassification error for each k value is :  [0.179 0.133 0.119 0.114 0.111 0.111 0.111 0.111 0.111 0.112 0.112 0.112\n",
      " 0.2   0.144 0.123 0.117 0.114 0.114 0.113 0.113 0.113 0.113 0.113 0.113]\n"
     ]
    },
    {
     "data": {
      "image/png": "[encoded data removed]",
      "text/plain": [
       "<Figure size 432x288 with 1 Axes>"
      ]
     },
     "metadata": {},
     "output_type": "display_data"
    },
    {
     "name": "stdout",
     "output_type": "stream",
     "text": [
      "The misclassification error for each k value is :  [0.179 0.133 0.119 0.114 0.111 0.111 0.111 0.111 0.111 0.112 0.112 0.112\n",
      " 0.2   0.144 0.123 0.117 0.114 0.114 0.113 0.113 0.113 0.113 0.113 0.113]\n"
     ]
    },
    {
     "data": {
      "image/png": "[encoded data removed]",
      "text/plain": [
       "<Figure size 432x288 with 1 Axes>"
      ]
     },
     "metadata": {},
     "output_type": "display_data"
    },
    {
     "name": "stdout",
     "output_type": "stream",
     "text": [
      "The misclassification error for each k value is :  [0.179 0.133 0.119 0.114 0.111 0.111 0.111 0.111 0.111 0.112 0.112 0.112\n",
      " 0.2   0.144 0.123 0.117 0.114 0.114 0.113 0.113 0.113 0.113 0.113 0.113]\n"
     ]
    },
    {
     "data": {
      "image/png": "[encoded data removed]",
      "text/plain": [
       "<Figure size 432x288 with 1 Axes>"
      ]
     },
     "metadata": {},
     "output_type": "display_data"
    },
    {
     "name": "stdout",
     "output_type": "stream",
     "text": [
      "The misclassification error for each k value is :  [0.179 0.133 0.119 0.114 0.111 0.111 0.111 0.111 0.111 0.112 0.112 0.112\n",
      " 0.2   0.144 0.123 0.117 0.114 0.114 0.113 0.113 0.113 0.113 0.113 0.113]\n"
     ]
    },
    {
     "data": {
      "image/png": "[encoded data removed]",
      "text/plain": [
       "<Figure size 432x288 with 2 Axes>"
      ]
     },
     "metadata": {},
     "output_type": "display_data"
    },
    {
     "name": "stdout",
     "output_type": "stream",
     "text": [
      "The F1 scoring on Test data is: 0.8879333333333334\n",
      "\n",
      "\n",
      "Accuracy for K Nearest Neighbours algorithm with alpha value = 13 , calculated using F1 as scoring metric is  89.0\n",
      "missclassification error for each alpha= [0.179 0.133 0.119 0.114 0.111 0.111 0.111 0.111 0.111 0.112 0.112 0.112\n",
      " 0.2   0.144 0.123 0.117 0.114 0.114 0.113 0.113 0.113 0.113 0.113 0.113]\n",
      "\n",
      "\n",
      "f1 score for KNN algorithm with alpha = 13  is  47.39\n",
      "\n",
      "\n",
      "Recall for KNN agorithm with alpha = 23  is  50.12\n",
      "\n",
      "\n",
      "Precision for KNN algorithm with aplha = 23  is  58.72\n",
      "\n",
      "\n",
      "\n",
      " Classification report for K Nearest Neighbours algorithm with alpha = 13  is \n",
      "               precision    recall  f1-score   support\n",
      "\n",
      "          0       0.29      0.00      0.01      1672\n",
      "          1       0.89      1.00      0.94     13328\n",
      "\n",
      "avg / total       0.82      0.89      0.84     15000\n",
      "\n",
      "Accuracy for kd_tree  algorithm with K = 13  is  89.0\n",
      "\n",
      "\n",
      "Wall time: 20min 45s\n"
     ]
    },
    {
     "data": {
      "image/png": "[encoded data removed]",
      "text/plain": [
       "<Figure size 432x288 with 2 Axes>"
      ]
     },
     "metadata": {},
     "output_type": "display_data"
    },
    {
     "name": "stdout",
     "output_type": "stream",
     "text": [
      "The F1 scoring on Test data is: 0.8879333333333334\n",
      "\n",
      "\n",
      "Accuracy for K Nearest Neighbours algorithm with alpha value = 13 , calculated using F1 as scoring metric is  89.0\n",
      "missclassification error for each alpha= [0.179 0.133 0.119 0.114 0.111 0.111 0.111 0.111 0.111 0.112 0.112 0.112\n",
      " 0.2   0.144 0.123 0.117 0.114 0.114 0.113 0.113 0.113 0.113 0.113 0.113]\n",
      "\n",
      "\n",
      "f1 score for KNN algorithm with alpha = 13  is  47.39\n",
      "\n",
      "\n",
      "Recall for KNN agorithm with alpha = 23  is  50.12\n",
      "\n",
      "\n",
      "Precision for KNN algorithm with aplha = 23  is  58.72\n",
      "\n",
      "\n",
      "\n",
      " Classification report for K Nearest Neighbours algorithm with alpha = 13  is \n",
      "               precision    recall  f1-score   support\n",
      "\n",
      "          0       0.29      0.00      0.01      1672\n",
      "          1       0.89      1.00      0.94     13328\n",
      "\n",
      "avg / total       0.82      0.89      0.84     15000\n",
      "\n",
      "Accuracy for kd_tree  algorithm with K = 13  is  89.0\n",
      "\n",
      "\n",
      "Wall time: 20min 45s\n"
     ]
    },
    {
     "data": {
      "image/png": "[encoded data removed]",
      "text/plain": [
       "<Figure size 432x288 with 2 Axes>"
      ]
     },
     "metadata": {},
     "output_type": "display_data"
    },
    {
     "name": "stdout",
     "output_type": "stream",
     "text": [
      "The F1 scoring on Test data is: 0.8879333333333334\n",
      "\n",
      "\n",
      "Accuracy for K Nearest Neighbours algorithm with alpha value = 13 , calculated using F1 as scoring metric is  89.0\n",
      "missclassification error for each alpha= [0.179 0.133 0.119 0.114 0.111 0.111 0.111 0.111 0.111 0.112 0.112 0.112\n",
      " 0.2   0.144 0.123 0.117 0.114 0.114 0.113 0.113 0.113 0.113 0.113 0.113]\n",
      "\n",
      "\n",
      "f1 score for KNN algorithm with alpha = 13  is  47.39\n",
      "\n",
      "\n",
      "Recall for KNN agorithm with alpha = 23  is  50.12\n",
      "\n",
      "\n",
      "Precision for KNN algorithm with aplha = 23  is  58.72\n",
      "\n",
      "\n",
      "\n",
      " Classification report for K Nearest Neighbours algorithm with alpha = 13  is \n",
      "               precision    recall  f1-score   support\n",
      "\n",
      "          0       0.29      0.00      0.01      1672\n",
      "          1       0.89      1.00      0.94     13328\n",
      "\n",
      "avg / total       0.82      0.89      0.84     15000\n",
      "\n",
      "Accuracy for kd_tree  algorithm with K = 13  is  89.0\n",
      "\n",
      "\n",
      "Wall time: 20min 45s\n"
     ]
    },
    {
     "data": {
      "image/png": "[encoded data removed]",
      "text/plain": [
       "<Figure size 432x288 with 2 Axes>"
      ]
     },
     "metadata": {},
     "output_type": "display_data"
    },
    {
     "name": "stdout",
     "output_type": "stream",
     "text": [
      "The F1 scoring on Test data is: 0.8879333333333334\n",
      "\n",
      "\n",
      "Accuracy for K Nearest Neighbours algorithm with alpha value = 13 , calculated using F1 as scoring metric is  89.0\n",
      "missclassification error for each alpha= [0.179 0.133 0.119 0.114 0.111 0.111 0.111 0.111 0.111 0.112 0.112 0.112\n",
      " 0.2   0.144 0.123 0.117 0.114 0.114 0.113 0.113 0.113 0.113 0.113 0.113]\n",
      "\n",
      "\n",
      "f1 score for KNN algorithm with alpha = 13  is  47.39\n",
      "\n",
      "\n",
      "Recall for KNN agorithm with alpha = 23  is  50.12\n",
      "\n",
      "\n",
      "Precision for KNN algorithm with aplha = 23  is  58.72\n",
      "\n",
      "\n",
      "\n",
      " Classification report for K Nearest Neighbours algorithm with alpha = 13  is \n",
      "               precision    recall  f1-score   support\n",
      "\n",
      "          0       0.29      0.00      0.01      1672\n",
      "          1       0.89      1.00      0.94     13328\n",
      "\n",
      "avg / total       0.82      0.89      0.84     15000\n",
      "\n",
      "Accuracy for kd_tree  algorithm with K = 13  is  89.0\n",
      "\n",
      "\n",
      "Wall time: 20min 45s\n"
     ]
    }
   ],
   "source": [
    "%%time\n",
    "bowKNN=runKNN(train_bow,y_train,test_bow,y_test,'Bag of Words')"
   ]
  },
  {
   "cell_type": "markdown",
   "metadata": {},
   "source": [
    "# [4.2] Bigrams and n-grams"
   ]
  },
  {
   "cell_type": "code",
   "execution_count": 22,
   "metadata": {},
   "outputs": [],
   "source": [
    "count_vect = CountVectorizer(ngram_range=(1,2), min_df=10, max_features=500)\n",
    "count_vect.fit(X_train)\n",
    "train_bi    =count_vect.transform(X_train)\n",
    "#cv_bi       =count_vect.transform(X_cv)\n",
    "test_bi     =count_vect.transform(X_test)"
   ]
  },
  {
   "cell_type": "markdown",
   "metadata": {},
   "source": []
  },
  {
   "cell_type": "markdown",
   "metadata": {},
   "source": []
  },
  {
   "cell_type": "code",
   "execution_count": 27,
   "metadata": {},
   "outputs": [
    {
     "name": "stdout",
     "output_type": "stream",
     "text": [
      "Details for brute Bigrams and n-grams Vectorization:\n",
      "****************************************************************************************************\n",
      "\n",
      "\n"
     ]
    },
    {
     "data": {
      "image/png": "[encoded data removed]",
      "text/plain": [
       "<Figure size 432x288 with 1 Axes>"
      ]
     },
     "metadata": {},
     "output_type": "display_data"
    },
    {
     "name": "stdout",
     "output_type": "stream",
     "text": [
      "The misclassification error for each k value is :  [0.178 0.132 0.12  0.113 0.112 0.112 0.111 0.112 0.111 0.112 0.111 0.112]\n"
     ]
    },
    {
     "data": {
      "image/png": "[encoded data removed]",
      "text/plain": [
       "<Figure size 432x288 with 2 Axes>"
      ]
     },
     "metadata": {},
     "output_type": "display_data"
    },
    {
     "name": "stdout",
     "output_type": "stream",
     "text": [
      "The F1 scoring on Test data is: 0.8892\n",
      "\n",
      "\n",
      "Accuracy for K Nearest Neighbours algorithm with alpha value = 17 , calculated using F1 as scoring metric is  89.0\n",
      "missclassification error for each alpha= [0.178 0.132 0.12  0.113 0.112 0.112 0.111 0.112 0.111 0.112 0.111 0.112]\n",
      "\n",
      "\n",
      "f1 score for KNN algorithm with alpha = 17  is  49.73\n",
      "\n",
      "\n",
      "Recall for KNN agorithm with alpha = 23  is  51.27\n",
      "\n",
      "\n",
      "Precision for KNN algorithm with aplha = 23  is  72.53\n",
      "\n",
      "\n",
      "\n",
      " Classification report for K Nearest Neighbours algorithm with alpha = 17  is \n",
      "               precision    recall  f1-score   support\n",
      "\n",
      "          0       0.56      0.03      0.05      1672\n",
      "          1       0.89      1.00      0.94     13328\n",
      "\n",
      "avg / total       0.85      0.89      0.84     15000\n",
      "\n",
      "Accuracy for brute  algorithm with K = 17  is  89.0\n",
      "\n",
      "\n",
      "Details for kd_tree Bigrams and n-grams Vectorization:\n",
      "****************************************************************************************************\n",
      "\n",
      "\n"
     ]
    },
    {
     "data": {
      "image/png": "[encoded data removed]",
      "text/plain": [
       "<Figure size 432x288 with 1 Axes>"
      ]
     },
     "metadata": {},
     "output_type": "display_data"
    },
    {
     "name": "stdout",
     "output_type": "stream",
     "text": [
      "The misclassification error for each k value is :  [0.178 0.132 0.12  0.113 0.112 0.112 0.111 0.112 0.111 0.112 0.111 0.112\n",
      " 0.199 0.142 0.123 0.117 0.115 0.114 0.113 0.113 0.113 0.113 0.113 0.113]\n"
     ]
    },
    {
     "data": {
      "image/png": "[encoded data removed]",
      "text/plain": [
       "<Figure size 432x288 with 2 Axes>"
      ]
     },
     "metadata": {},
     "output_type": "display_data"
    },
    {
     "name": "stdout",
     "output_type": "stream",
     "text": [
      "The F1 scoring on Test data is: 0.8884\n",
      "\n",
      "\n",
      "Accuracy for K Nearest Neighbours algorithm with alpha value = 17 , calculated using F1 as scoring metric is  89.0\n",
      "missclassification error for each alpha= [0.178 0.132 0.12  0.113 0.112 0.112 0.111 0.112 0.111 0.112 0.111 0.112\n",
      " 0.199 0.142 0.123 0.117 0.115 0.114 0.113 0.113 0.113 0.113 0.113 0.113]\n",
      "\n",
      "\n",
      "f1 score for KNN algorithm with alpha = 17  is  47.1\n",
      "\n",
      "\n",
      "Recall for KNN agorithm with alpha = 23  is  50.02\n",
      "\n",
      "\n",
      "Precision for KNN algorithm with aplha = 23  is  56.93\n",
      "\n",
      "\n",
      "\n",
      " Classification report for K Nearest Neighbours algorithm with alpha = 17  is \n",
      "               precision    recall  f1-score   support\n",
      "\n",
      "          0       0.25      0.00      0.00      1672\n",
      "          1       0.89      1.00      0.94     13328\n",
      "\n",
      "avg / total       0.82      0.89      0.84     15000\n",
      "\n",
      "Accuracy for kd_tree  algorithm with K = 17  is  89.0\n",
      "\n",
      "\n",
      "Wall time: 49min 46s\n"
     ]
    }
   ],
   "source": [
    "%%time\n",
    "bigramKNN=runKNN(train_bi,y_train,test_bi,y_test,'Bigrams and n-grams')"
   ]
  },
  {
   "cell_type": "markdown",
   "metadata": {},
   "source": [
    "# [4.3] TFIDF "
   ]
  },
  {
   "cell_type": "code",
   "execution_count": 25,
   "metadata": {},
   "outputs": [
    {
     "data": {
      "text/plain": [
       "(35000, 500)"
      ]
     },
     "execution_count": 25,
     "metadata": {},
     "output_type": "execute_result"
    },
    {
     "data": {
      "text/plain": [
       "(35000, 500)"
      ]
     },
     "execution_count": 25,
     "metadata": {},
     "output_type": "execute_result"
    }
   ],
   "source": [
    "from sklearn.feature_extraction.text import TfidfVectorizer\n",
    "tf_idf_vect = TfidfVectorizer(ngram_range=(1,2), min_df=10,max_features=500)\n",
    "tf_idf_vect.fit(X_train)\n",
    "train_tfidf    =tf_idf_vect.transform(X_train)\n",
    "#cv_tfidf       =tf_idf_vect.transform(X_cv)\n",
    "test_tfidf     =tf_idf_vect.transform(X_test)\n",
    "train_tfidf.shape\n"
   ]
  },
  {
   "cell_type": "code",
   "execution_count": 26,
   "metadata": {},
   "outputs": [
    {
     "name": "stdout",
     "output_type": "stream",
     "text": [
      "Details for brute Bag of Words Vectorization:\n",
      "****************************************************************************************************\n",
      "\n",
      "\n"
     ]
    },
    {
     "data": {
      "image/png": "[encoded data removed]",
      "text/plain": [
       "<Figure size 432x288 with 1 Axes>"
      ]
     },
     "metadata": {},
     "output_type": "display_data"
    },
    {
     "name": "stdout",
     "output_type": "stream",
     "text": [
      "The misclassification error for each k value is :  [0.136 0.117 0.114 0.112 0.111 0.11  0.11  0.11  0.11  0.11  0.11  0.111]\n"
     ]
    },
    {
     "data": {
      "image/png": "[encoded data removed]",
      "text/plain": [
       "<Figure size 432x288 with 2 Axes>"
      ]
     },
     "metadata": {},
     "output_type": "display_data"
    },
    {
     "name": "stdout",
     "output_type": "stream",
     "text": [
      "The F1 scoring on Test data is: 0.8902666666666667\n",
      "\n",
      "\n",
      "Accuracy for K Nearest Neighbours algorithm with alpha value = 13 , calculated using F1 as scoring metric is  89.0\n",
      "missclassification error for each alpha= [0.136 0.117 0.114 0.112 0.111 0.11  0.11  0.11  0.11  0.11  0.11  0.111]\n",
      "\n",
      "\n",
      "f1 score for KNN algorithm with alpha = 13  is  49.95\n",
      "\n",
      "\n",
      "Recall for KNN agorithm with alpha = 23  is  51.41\n",
      "\n",
      "\n",
      "Precision for KNN algorithm with aplha = 23  is  78.35\n",
      "\n",
      "\n",
      "\n",
      " Classification report for K Nearest Neighbours algorithm with alpha = 13  is \n",
      "               precision    recall  f1-score   support\n",
      "\n",
      "          0       0.68      0.03      0.06      1672\n",
      "          1       0.89      1.00      0.94     13328\n",
      "\n",
      "avg / total       0.87      0.89      0.84     15000\n",
      "\n",
      "Accuracy for brute  algorithm with K = 13  is  89.0\n",
      "\n",
      "\n",
      "Details for kd_tree Bag of Words Vectorization:\n",
      "****************************************************************************************************\n",
      "\n",
      "\n"
     ]
    },
    {
     "data": {
      "image/png": "[encoded data removed]",
      "text/plain": [
       "<Figure size 432x288 with 1 Axes>"
      ]
     },
     "metadata": {},
     "output_type": "display_data"
    },
    {
     "name": "stdout",
     "output_type": "stream",
     "text": [
      "The misclassification error for each k value is :  [0.136 0.117 0.114 0.112 0.111 0.11  0.11  0.11  0.11  0.11  0.11  0.111\n",
      " 0.196 0.14  0.123 0.118 0.115 0.114 0.113 0.113 0.113 0.113 0.113 0.113]\n"
     ]
    },
    {
     "data": {
      "image/png": "[encoded data removed]",
      "text/plain": [
       "<Figure size 432x288 with 2 Axes>"
      ]
     },
     "metadata": {},
     "output_type": "display_data"
    },
    {
     "name": "stdout",
     "output_type": "stream",
     "text": [
      "The F1 scoring on Test data is: 0.8882666666666666\n",
      "\n",
      "\n",
      "Accuracy for K Nearest Neighbours algorithm with alpha value = 13 , calculated using F1 as scoring metric is  89.0\n",
      "missclassification error for each alpha= [0.136 0.117 0.114 0.112 0.111 0.11  0.11  0.11  0.11  0.11  0.11  0.111\n",
      " 0.196 0.14  0.123 0.118 0.115 0.114 0.113 0.113 0.113 0.113 0.113 0.113]\n",
      "\n",
      "\n",
      "f1 score for KNN algorithm with alpha = 13  is  47.28\n",
      "\n",
      "\n",
      "Recall for KNN agorithm with alpha = 23  is  50.09\n",
      "\n",
      "\n",
      "Precision for KNN algorithm with aplha = 23  is  61.1\n",
      "\n",
      "\n",
      "\n",
      " Classification report for K Nearest Neighbours algorithm with alpha = 13  is \n",
      "               precision    recall  f1-score   support\n",
      "\n",
      "          0       0.33      0.00      0.00      1672\n",
      "          1       0.89      1.00      0.94     13328\n",
      "\n",
      "avg / total       0.83      0.89      0.84     15000\n",
      "\n",
      "Accuracy for kd_tree  algorithm with K = 13  is  89.0\n",
      "\n",
      "\n",
      "Wall time: 38min 42s\n"
     ]
    }
   ],
   "source": [
    "%%time\n",
    "bowKNN=runKNN(train_tfidf,y_train,test_tfidf,y_test,'TFIDF')"
   ]
  },
  {
   "cell_type": "code",
   "execution_count": null,
   "metadata": {},
   "outputs": [],
   "source": []
  },
  {
   "cell_type": "markdown",
   "metadata": {},
   "source": [
    "# [4.4] Word 2 Vec"
   ]
  },
  {
   "cell_type": "code",
   "execution_count": 28,
   "metadata": {},
   "outputs": [
    {
     "name": "stderr",
     "output_type": "stream",
     "text": [
      "C:\\Users\\vinay\\Anaconda3\\lib\\site-packages\\gensim\\utils.py:1212: UserWarning: detected Windows; aliasing chunkize to chunkize_serial\n",
      "  warnings.warn(\"detected Windows; aliasing chunkize to chunkize_serial\")\n"
     ]
    }
   ],
   "source": [
    "from gensim.models import Word2Vec\n",
    "from gensim.models import KeyedVectors\n",
    "import pickle\n",
    "import gensim\n",
    "# Train your own Word2Vec model using your own text corpus\n",
    "i=0\n",
    "list_of_train=[]\n",
    "for sentance in X_train:\n",
    "    decode=sentance.decode('utf-8') #Since the data in X_train is of byte type, we convert it into string.\n",
    "    list_of_train.append(decode.split())\n",
    "    \n",
    "'''list_of_cv=[] \n",
    "for i in X_cv:\n",
    "    decode=i.decode('utf-8')\n",
    "    list_of_cv.append(decode.split())'''\n",
    "    \n",
    "list_of_test=[]\n",
    "for i in X_test:\n",
    "    decode=i.decode('utf-8')\n",
    "    list_of_test.append(decode.split())"
   ]
  },
  {
   "cell_type": "code",
   "execution_count": 30,
   "metadata": {},
   "outputs": [],
   "source": [
    "#We train our W2V model only using X_train list and try to find \n",
    "#avgW2V for train, test and cv datasets.\n",
    "w2v_model=gensim.models.Word2Vec(list_of_train,min_count=5,size=50, workers=6)"
   ]
  },
  {
   "cell_type": "code",
   "execution_count": 31,
   "metadata": {},
   "outputs": [],
   "source": [
    "w2v= w2v_model[w2v_model.wv.vocab]"
   ]
  },
  {
   "cell_type": "code",
   "execution_count": 32,
   "metadata": {},
   "outputs": [
    {
     "data": {
      "text/plain": [
       "(7940, 50)"
      ]
     },
     "execution_count": 32,
     "metadata": {},
     "output_type": "execute_result"
    }
   ],
   "source": [
    "w2v.shape "
   ]
  },
  {
   "cell_type": "code",
   "execution_count": 33,
   "metadata": {},
   "outputs": [
    {
     "data": {
      "text/plain": [
       "numpy.ndarray"
      ]
     },
     "execution_count": 33,
     "metadata": {},
     "output_type": "execute_result"
    }
   ],
   "source": [
    "type(w2v)"
   ]
  },
  {
   "cell_type": "code",
   "execution_count": null,
   "metadata": {},
   "outputs": [],
   "source": []
  },
  {
   "cell_type": "markdown",
   "metadata": {},
   "source": [
    "# Avg word2vec"
   ]
  },
  {
   "cell_type": "markdown",
   "metadata": {},
   "source": []
  },
  {
   "cell_type": "code",
   "execution_count": 34,
   "metadata": {},
   "outputs": [],
   "source": [
    "def AVGw2v(x):\n",
    "    sent_vectors = [];           # the avg-w2v for each sentence/review is stored in this list\n",
    "    for sent in x:    # for each review/sentence\n",
    "        sent_vec = np.zeros(50)  # as word vectors are of zero length\n",
    "        cnt_words =0;            # num of words with a valid vector in the sentence/review\n",
    "        for word in sent:        # for each word in a review/sentence\n",
    "            try:\n",
    "                vec = w2v_model.wv[word]\n",
    "                sent_vec += vec\n",
    "                cnt_words += 1\n",
    "            except:\n",
    "                pass\n",
    "        sent_vec /= cnt_words\n",
    "        sent_vectors.append(sent_vec)\n",
    "    return sent_vectors"
   ]
  },
  {
   "cell_type": "code",
   "execution_count": 35,
   "metadata": {},
   "outputs": [],
   "source": [
    "avgW2V_train= AVGw2v(list_of_train)"
   ]
  },
  {
   "cell_type": "code",
   "execution_count": 41,
   "metadata": {},
   "outputs": [
    {
     "data": {
      "text/plain": [
       "list"
      ]
     },
     "execution_count": 41,
     "metadata": {},
     "output_type": "execute_result"
    }
   ],
   "source": [
    "type(avgW2V_train)"
   ]
  },
  {
   "cell_type": "code",
   "execution_count": 36,
   "metadata": {},
   "outputs": [],
   "source": [
    "avgW2V_test= AVGw2v(list_of_test)"
   ]
  },
  {
   "cell_type": "code",
   "execution_count": 46,
   "metadata": {},
   "outputs": [],
   "source": [
    "\n",
    "def run(X_train,y_train,X_test,y_test,VectorizationType):\n",
    "    from sklearn.preprocessing import LabelBinarizer\n",
    "    from sklearn.naive_bayes import MultinomialNB\n",
    "    cv_scores = []\n",
    "    cm_list=[]\n",
    "    algorithm = ['brute','kd_tree']\n",
    "    lb= LabelBinarizer()\n",
    "    y_train=np.array([number[0] for number in lb.fit_transform(y_train)])\n",
    "    y_test=np.array([number[0] for number in lb.fit_transform(y_test)])\n",
    "    \n",
    "    for algo in algorithm:\n",
    "        #print(algo)\n",
    "        # kd_tree cannot consume Sparse Matrix. Converting Sparse Matrix to Dense using Truncated SVD.\n",
    "        if algo == 'kd_tree':\n",
    "            svd = TruncatedSVD()\n",
    "            svd.fit(X_train)\n",
    "            X_train = svd.transform(X_train)\n",
    "            #X_cv    = svd.transform(X_cv)\n",
    "            X_test  = svd.transform(X_test)\n",
    " \n",
    "       # creating odd list of K for KNN\n",
    "        myList = list(range(0,25))\n",
    "        neighbors = list(filter(lambda x: x % 2 != 0, myList))\n",
    "\n",
    "        # empty list that will hold cv scores\n",
    "    \n",
    "        # perform 10-fold cross validation\n",
    "        for k in neighbors:\n",
    "            knn = KNeighborsClassifier(n_neighbors=k,algorithm=algo)\n",
    "            scores = cross_val_score(knn,X_train , y_train, cv=10, scoring='accuracy')\n",
    "            cv_scores.append(scores.mean())\n",
    "\n",
    "        # changing to misclassification error\n",
    "        MSE = [1 - x for x in cv_scores]\n",
    "\n",
    "        # determining best k\n",
    "        optimal_k = neighbors[MSE.index(min(MSE))]\n",
    "        #print('\\nThe optimal number of neighbors is %d.' % optimal_k)\n",
    "        \n",
    "        knn_optimal = KNeighborsClassifier(n_neighbors=optimal_k)\n",
    "\n",
    "        # fitting the model\n",
    "        knn_optimal.fit(X_train, y_train)\n",
    " \n",
    "         # predict the response\n",
    "        ''' pred = []\n",
    "        for i in range(0,X_test.shape,1000): #(CHUNK of data)\n",
    "            pred.append(knn_optimal.predict_proba(X_test[i:i+1000])[:,1])\n",
    "            predict = np.hstack(pred)'''\n",
    "\n",
    "        # evaluate accuracy\n",
    "        predict = knn_optimal.predict(X_test)\n",
    "        acc = accuracy_score(y_test, predict) * 100\n",
    "        #print('\\n The accuracy of the knn classifier for k = %d is %f%%' % (optimal_k, acc))\n",
    "        \n",
    "        print('Details for',algo,VectorizationType,'Vectorization:')\n",
    "        print('*'*100)\n",
    "        print('\\n')\n",
    "        \n",
    "        \n",
    "        \n",
    "        import sklearn.metrics as metrics\n",
    "        # calculate the fpr and tpr for all thresholds of the classification\n",
    "        fpr, tpr, threshold = metrics.roc_curve(y_test, predict)\n",
    "        roc_auc = metrics.auc(fpr, tpr)\n",
    "\n",
    "        # method I: plt\n",
    "       \n",
    "        plt.title('Receiver Operating Characteristic')\n",
    "        plt.plot(fpr, tpr, 'b', label = 'AUC = %0.2f' % roc_auc)\n",
    "        plt.legend(loc = 'lower right')\n",
    "        plt.plot([0, 1], [0, 1],'r--')\n",
    "        plt.xlim([0, 1])\n",
    "        plt.ylim([0, 1])\n",
    "        plt.ylabel('True Positive Rate')\n",
    "        plt.xlabel('False Positive Rate')\n",
    "        plt.show()     \n",
    "        print(\"The misclassification error for each k value is : \", np.round(MSE,3))\n",
    "        cm = confusion_matrix(y_test, predict)\n",
    "        class_label = [\"negative\", \"positive\"]\n",
    "        df_cm = pd.DataFrame(cm, index = class_label, columns = class_label)\n",
    "        sns.heatmap(df_cm, annot = True, fmt = \"d\")\n",
    "        plt.title(\"Confusion Matrix\")\n",
    "        plt.xlabel(\"Predicted Label\")\n",
    "        plt.ylabel(\"True Label\")\n",
    "        plt.show()\n",
    "        score=knn_optimal.score(X_test, y_test)\n",
    "        print('The F1 scoring on Test data is:', score)\n",
    "        print('\\n')\n",
    "        print('Accuracy for K Nearest Neighbours algorithm with alpha value =',optimal_k,', calculated using F1 as scoring metric is ' ,np.round(accuracy_score(y_test, predict)*100))  \n",
    "        print('missclassification error for each alpha=',np.round(MSE,3))\n",
    "        print('\\n')\n",
    "        print('f1 score for KNN algorithm with alpha =',optimal_k,' is ' , np.round((f1_score(y_test, predict,average= 'macro')*100),decimals = 2))\n",
    "        print('\\n')\n",
    "        print('Recall for KNN agorithm with alpha =',k,' is ' , np.round((recall_score(y_test, predict,average= 'macro')*100),decimals = 2))\n",
    "        print('\\n')\n",
    "        print('Precision for KNN algorithm with aplha =',k,' is ' , np.round((precision_score(y_test, predict,average= 'macro')*100),decimals = 2))\n",
    "        print('\\n')\n",
    "        print ('\\n Classification report for K Nearest Neighbours algorithm with alpha =',optimal_k,' is \\n ' , classification_report(y_test,predict))\n",
    "        print('Accuracy for',algo,' algorithm with K =',optimal_k,' is ' ,np.round(accuracy_score(y_test, predict)*100))\n",
    "        print('\\n')\n",
    "    return knn_optimal"
   ]
  },
  {
   "cell_type": "code",
   "execution_count": 47,
   "metadata": {},
   "outputs": [
    {
     "name": "stdout",
     "output_type": "stream",
     "text": [
      "Details for brute avg W2V Vectorization:\n",
      "****************************************************************************************************\n",
      "\n",
      "\n"
     ]
    },
    {
     "data": {
      "image/png": "[encoded data removed]",
      "text/plain": [
       "<Figure size 432x288 with 1 Axes>"
      ]
     },
     "metadata": {},
     "output_type": "display_data"
    },
    {
     "name": "stdout",
     "output_type": "stream",
     "text": [
      "The misclassification error for each k value is :  [0.136 0.111 0.105 0.102 0.101 0.102 0.101 0.101 0.102 0.102 0.102 0.102]\n"
     ]
    },
    {
     "data": {
      "image/png": "[encoded data removed]",
      "text/plain": [
       "<Figure size 432x288 with 2 Axes>"
      ]
     },
     "metadata": {},
     "output_type": "display_data"
    },
    {
     "name": "stdout",
     "output_type": "stream",
     "text": [
      "The F1 scoring on Test data is: 0.8993333333333333\n",
      "\n",
      "\n",
      "Accuracy for K Nearest Neighbours algorithm with alpha value = 9 , calculated using F1 as scoring metric is  90.0\n",
      "missclassification error for each alpha= [0.136 0.111 0.105 0.102 0.101 0.102 0.101 0.101 0.102 0.102 0.102 0.102]\n",
      "\n",
      "\n",
      "f1 score for KNN algorithm with alpha = 9  is  61.98\n",
      "\n",
      "\n",
      "Recall for KNN agorithm with alpha = 23  is  58.82\n",
      "\n",
      "\n",
      "Precision for KNN algorithm with aplha = 23  is  79.02\n",
      "\n",
      "\n",
      "\n",
      " Classification report for K Nearest Neighbours algorithm with alpha = 9  is \n",
      "               precision    recall  f1-score   support\n",
      "\n",
      "          0       0.67      0.19      0.29      1672\n",
      "          1       0.91      0.99      0.95     13328\n",
      "\n",
      "avg / total       0.88      0.90      0.87     15000\n",
      "\n",
      "Accuracy for brute  algorithm with K = 9  is  90.0\n",
      "\n",
      "\n",
      "Details for kd_tree avg W2V Vectorization:\n",
      "****************************************************************************************************\n",
      "\n",
      "\n"
     ]
    },
    {
     "data": {
      "image/png": "[encoded data removed]",
      "text/plain": [
       "<Figure size 432x288 with 1 Axes>"
      ]
     },
     "metadata": {},
     "output_type": "display_data"
    },
    {
     "name": "stdout",
     "output_type": "stream",
     "text": [
      "The misclassification error for each k value is :  [0.136 0.111 0.105 0.102 0.101 0.102 0.101 0.101 0.102 0.102 0.102 0.102\n",
      " 0.194 0.141 0.125 0.118 0.116 0.115 0.114 0.114 0.113 0.113 0.113 0.113]\n"
     ]
    },
    {
     "data": {
      "image/png": "[encoded data removed]",
      "text/plain": [
       "<Figure size 432x288 with 2 Axes>"
      ]
     },
     "metadata": {},
     "output_type": "display_data"
    },
    {
     "name": "stdout",
     "output_type": "stream",
     "text": [
      "The F1 scoring on Test data is: 0.8862666666666666\n",
      "\n",
      "\n",
      "Accuracy for K Nearest Neighbours algorithm with alpha value = 9 , calculated using F1 as scoring metric is  89.0\n",
      "missclassification error for each alpha= [0.136 0.111 0.105 0.102 0.101 0.102 0.101 0.101 0.102 0.102 0.102 0.102\n",
      " 0.194 0.141 0.125 0.118 0.116 0.115 0.114 0.114 0.113 0.113 0.113 0.113]\n",
      "\n",
      "\n",
      "f1 score for KNN algorithm with alpha = 9  is  48.51\n",
      "\n",
      "\n",
      "Recall for KNN agorithm with alpha = 23  is  50.58\n",
      "\n",
      "\n",
      "Precision for KNN algorithm with aplha = 23  is  59.83\n",
      "\n",
      "\n",
      "\n",
      " Classification report for K Nearest Neighbours algorithm with alpha = 9  is \n",
      "               precision    recall  f1-score   support\n",
      "\n",
      "          0       0.31      0.02      0.03      1672\n",
      "          1       0.89      1.00      0.94     13328\n",
      "\n",
      "avg / total       0.82      0.89      0.84     15000\n",
      "\n",
      "Accuracy for kd_tree  algorithm with K = 9  is  89.0\n",
      "\n",
      "\n",
      "Wall time: 6min 46s\n"
     ]
    }
   ],
   "source": [
    "%%time\n",
    "bowKNN=run(avgW2V_train,y_train,avgW2V_test,y_test,'avg W2V')"
   ]
  },
  {
   "cell_type": "markdown",
   "metadata": {},
   "source": [
    "# TFIDF word2vec"
   ]
  },
  {
   "cell_type": "code",
   "execution_count": 48,
   "metadata": {},
   "outputs": [],
   "source": [
    "# S = [\"abc def pqr\", \"def def def abc\", \"pqr pqr def\"]\n",
    "tf_idf_vect = TfidfVectorizer(ngram_range=(1,2))\n",
    "tfidfw2v_train=tf_idf_vect.fit_transform(X_train)\n",
    "dictionary = dict(zip(tf_idf_vect.get_feature_names(), list(tf_idf_vect.idf_)))\n"
   ]
  },
  {
   "cell_type": "code",
   "execution_count": null,
   "metadata": {},
   "outputs": [],
   "source": [
    "'''tf_idf_vect1 = TfidfVectorizer(ngram_range=(1,2))\n",
    "tfidfw2v_cv=tf_idf_vect1.fit_transform(X_cv)\n",
    "# we are converting a dictionary with word as a key, and the idf as a value\n",
    "dictionary1 = dict(zip(tf_idf_vect1.get_feature_names(), list(tf_idf_vect1.idf_)))'''\n",
    "\n"
   ]
  },
  {
   "cell_type": "code",
   "execution_count": 49,
   "metadata": {},
   "outputs": [],
   "source": [
    "tf_idf_vect2 = TfidfVectorizer(ngram_range=(1,2))\n",
    "tfidfw2v_test=tf_idf_vect2.fit_transform(X_test)\n",
    "# we are converting a dictionary with word as a key, and the idf as a value\n",
    "dictionary2 = dict(zip(tf_idf_vect2.get_feature_names(), list(tf_idf_vect2.idf_)))"
   ]
  },
  {
   "cell_type": "code",
   "execution_count": 50,
   "metadata": {},
   "outputs": [
    {
     "name": "stdout",
     "output_type": "stream",
     "text": [
      "number of words that occured minimum 5 times  7940\n",
      "sample words  ['everyon', 'tast', 'love', 'fruiti', 'natur', 'great', 'product', 'pleas', 'stay', 'away', 'bought', 'first', 'one', 'broke', 'hung', 'night', 'put', 'second', 'last', 'week', 'trap', 'fli', 'materi', 'look', 'feel', 'cheap', 'ever', 'buy', 'thing', 'cant', 'return', 'ship', 'actual', 'unit', 'waist', 'time', 'money', 'pill', 'cat', 'sometim', 'problem', 'particular', 'chicken', 'flavor', 'granola', 'delici', 'gluten', 'free', 'bonus', 'sinc']\n"
     ]
    }
   ],
   "source": [
    "w2v_words = list(w2v_model.wv.vocab)\n",
    "print(\"number of words that occured minimum 5 times \",len(w2v_words))\n",
    "print(\"sample words \", w2v_words[0:50])"
   ]
  },
  {
   "cell_type": "code",
   "execution_count": 51,
   "metadata": {},
   "outputs": [],
   "source": [
    "# TF-IDF weighted Word2Vec\n",
    "from tqdm import tqdm\n",
    "\n",
    "def tfidf_w2v(x,y):\n",
    "    \n",
    "    tfidf_feat = tf_idf_vect.get_feature_names() # tfidf words/col-names\n",
    "    # final_tf_idf is the sparse matrix with row= sentence, col=word and cell_val = tfidf\n",
    "    \n",
    "    tfidf_sent_vectors = [] # the tfidf-w2v for each sentence/review is stored in this list\n",
    "    row=0;\n",
    "    for sent in tqdm(x): # for each review/sentence\n",
    "        sent_vec = np.zeros(50) # as word vectors are of zero length\n",
    "        weight_sum =0; # num of words with a valid vector in the sentence/review\n",
    "        for word in sent: # for each word in a review/sentence\n",
    "            if word in w2v_words:\n",
    "                vec = w2v_model.wv[word]# 50dim array is created for each word in the list of train(x).\n",
    "                # obtain the tf_idfidf of a word in a sentence/review\n",
    "                #tfi_df = final_tf_idf[row, tfidf_feat.index(word)]\n",
    "                tf_idf = y[word]*(sent.count(word)/len(sent)) #here we get the tfidf value of the word from the list of train\n",
    "                sent_vec += (vec * tf_idf)\n",
    "                weight_sum += tf_idf\n",
    "        if weight_sum != 0:\n",
    "            sent_vec /= weight_sum\n",
    "        tfidf_sent_vectors.append(sent_vec)\n",
    "        row += 1\n",
    "    return tfidf_sent_vectors"
   ]
  },
  {
   "cell_type": "code",
   "execution_count": 52,
   "metadata": {},
   "outputs": [
    {
     "name": "stderr",
     "output_type": "stream",
     "text": [
      "100%|██████████████████████████████████████████████████████████████████████████| 35000/35000 [00:33<00:00, 1055.37it/s]\n"
     ]
    }
   ],
   "source": [
    "tfidfw2v_train=tfidf_w2v(list_of_train,dictionary)"
   ]
  },
  {
   "cell_type": "code",
   "execution_count": 53,
   "metadata": {},
   "outputs": [
    {
     "name": "stderr",
     "output_type": "stream",
     "text": [
      "100%|██████████████████████████████████████████████████████████████████████████| 15000/15000 [00:14<00:00, 1036.82it/s]\n"
     ]
    }
   ],
   "source": [
    "tfidfw2v_test=tfidf_w2v(list_of_test,dictionary2)"
   ]
  },
  {
   "cell_type": "code",
   "execution_count": 54,
   "metadata": {},
   "outputs": [
    {
     "name": "stdout",
     "output_type": "stream",
     "text": [
      "Details for brute tfidf avg W2V Vectorization:\n",
      "****************************************************************************************************\n",
      "\n",
      "\n"
     ]
    },
    {
     "data": {
      "image/png": "[encoded data removed]",
      "text/plain": [
       "<Figure size 432x288 with 1 Axes>"
      ]
     },
     "metadata": {},
     "output_type": "display_data"
    },
    {
     "name": "stdout",
     "output_type": "stream",
     "text": [
      "The misclassification error for each k value is :  [0.149 0.119 0.111 0.107 0.107 0.106 0.105 0.105 0.106 0.106 0.105 0.106]\n"
     ]
    },
    {
     "data": {
      "image/png": "[encoded data removed]",
      "text/plain": [
       "<Figure size 432x288 with 2 Axes>"
      ]
     },
     "metadata": {},
     "output_type": "display_data"
    },
    {
     "name": "stdout",
     "output_type": "stream",
     "text": [
      "The F1 scoring on Test data is: 0.8954666666666666\n",
      "\n",
      "\n",
      "Accuracy for K Nearest Neighbours algorithm with alpha value = 21 , calculated using F1 as scoring metric is  90.0\n",
      "missclassification error for each alpha= [0.149 0.119 0.111 0.107 0.107 0.106 0.105 0.105 0.106 0.106 0.105 0.106]\n",
      "\n",
      "\n",
      "f1 score for KNN algorithm with alpha = 21  is  57.08\n",
      "\n",
      "\n",
      "Recall for KNN agorithm with alpha = 23  is  55.44\n",
      "\n",
      "\n",
      "Precision for KNN algorithm with aplha = 23  is  79.2\n",
      "\n",
      "\n",
      "\n",
      " Classification report for K Nearest Neighbours algorithm with alpha = 21  is \n",
      "               precision    recall  f1-score   support\n",
      "\n",
      "          0       0.68      0.12      0.20      1672\n",
      "          1       0.90      0.99      0.94     13328\n",
      "\n",
      "avg / total       0.88      0.90      0.86     15000\n",
      "\n",
      "Accuracy for brute  algorithm with K = 21  is  90.0\n",
      "\n",
      "\n",
      "Details for kd_tree tfidf avg W2V Vectorization:\n",
      "****************************************************************************************************\n",
      "\n",
      "\n"
     ]
    },
    {
     "data": {
      "image/png": "[encoded data removed]",
      "text/plain": [
       "<Figure size 432x288 with 1 Axes>"
      ]
     },
     "metadata": {},
     "output_type": "display_data"
    },
    {
     "name": "stdout",
     "output_type": "stream",
     "text": [
      "The misclassification error for each k value is :  [0.149 0.119 0.111 0.107 0.107 0.106 0.105 0.105 0.106 0.106 0.105 0.106\n",
      " 0.196 0.142 0.125 0.118 0.115 0.114 0.114 0.113 0.113 0.113 0.113 0.113]\n"
     ]
    },
    {
     "data": {
      "image/png": "[encoded data removed]",
      "text/plain": [
       "<Figure size 432x288 with 2 Axes>"
      ]
     },
     "metadata": {},
     "output_type": "display_data"
    },
    {
     "name": "stdout",
     "output_type": "stream",
     "text": [
      "The F1 scoring on Test data is: 0.8885333333333333\n",
      "\n",
      "\n",
      "Accuracy for K Nearest Neighbours algorithm with alpha value = 21 , calculated using F1 as scoring metric is  89.0\n",
      "missclassification error for each alpha= [0.149 0.119 0.111 0.107 0.107 0.106 0.105 0.105 0.106 0.106 0.105 0.106\n",
      " 0.196 0.142 0.125 0.118 0.115 0.114 0.114 0.113 0.113 0.113 0.113 0.113]\n",
      "\n",
      "\n"
     ]
    },
    {
     "name": "stderr",
     "output_type": "stream",
     "text": [
      "C:\\Users\\vinay\\Anaconda3\\lib\\site-packages\\sklearn\\metrics\\classification.py:1135: UndefinedMetricWarning: F-score is ill-defined and being set to 0.0 in labels with no predicted samples.\n",
      "  'precision', 'predicted', average, warn_for)\n"
     ]
    },
    {
     "name": "stdout",
     "output_type": "stream",
     "text": [
      "f1 score for KNN algorithm with alpha = 21  is  47.05\n",
      "\n",
      "\n",
      "Recall for KNN agorithm with alpha = 23  is  50.0\n",
      "\n",
      "\n"
     ]
    },
    {
     "name": "stderr",
     "output_type": "stream",
     "text": [
      "C:\\Users\\vinay\\Anaconda3\\lib\\site-packages\\sklearn\\metrics\\classification.py:1135: UndefinedMetricWarning: Precision is ill-defined and being set to 0.0 in labels with no predicted samples.\n",
      "  'precision', 'predicted', average, warn_for)\n"
     ]
    },
    {
     "name": "stdout",
     "output_type": "stream",
     "text": [
      "Precision for KNN algorithm with aplha = 23  is  44.43\n",
      "\n",
      "\n"
     ]
    },
    {
     "name": "stderr",
     "output_type": "stream",
     "text": [
      "C:\\Users\\vinay\\Anaconda3\\lib\\site-packages\\sklearn\\metrics\\classification.py:1135: UndefinedMetricWarning: Precision and F-score are ill-defined and being set to 0.0 in labels with no predicted samples.\n",
      "  'precision', 'predicted', average, warn_for)\n"
     ]
    },
    {
     "name": "stdout",
     "output_type": "stream",
     "text": [
      "\n",
      " Classification report for K Nearest Neighbours algorithm with alpha = 21  is \n",
      "               precision    recall  f1-score   support\n",
      "\n",
      "          0       0.00      0.00      0.00      1672\n",
      "          1       0.89      1.00      0.94     13328\n",
      "\n",
      "avg / total       0.79      0.89      0.84     15000\n",
      "\n",
      "Accuracy for kd_tree  algorithm with K = 21  is  89.0\n",
      "\n",
      "\n",
      "Wall time: 6min 35s\n"
     ]
    }
   ],
   "source": [
    "%%time\n",
    "bowKNN=run(tfidfw2v_train,y_train,tfidfw2v_test,y_test,'tfidf avg W2V')"
   ]
  },
  {
   "cell_type": "code",
   "execution_count": 55,
   "metadata": {},
   "outputs": [],
   "source": [
    "from prettytable import PrettyTable\n",
    "    \n",
    "x = PrettyTable()\n",
    "\n",
    "x.field_names = [\"Model Name\", \"Hyper Parameter(alpha)\", \"Accuracy\"]"
   ]
  },
  {
   "cell_type": "code",
   "execution_count": 56,
   "metadata": {},
   "outputs": [
    {
     "name": "stdout",
     "output_type": "stream",
     "text": [
      "+------------------------+------------------------+----------+\n",
      "|       Model Name       | Hyper Parameter(alpha) | Accuracy |\n",
      "+------------------------+------------------------+----------+\n",
      "|   KNN brute  on BoW    |           13           |    89    |\n",
      "|   KNN kdtree on BoW    |           13           |    89    |\n",
      "|  KNN brute  on Bigram  |           17           |    89    |\n",
      "|  KNN kdtree on Bigram  |           17           |    89    |\n",
      "|  KNN brute  on tfidf   |           13           |    89    |\n",
      "|  KNN kdtree on tfidf   |           13           |    89    |\n",
      "|  KNN brute  on avgW2V  |           9            |    90    |\n",
      "|  KNN kdtree on avgW2V  |           9            |    89    |\n",
      "| KNN brute  on tfidfW2V |           21           |    90    |\n",
      "| KNN kdtree on tfidfW2V |           21           |    90    |\n",
      "+------------------------+------------------------+----------+\n"
     ]
    }
   ],
   "source": [
    "x.add_row([\"KNN brute  on BoW\",13,89])\n",
    "x.add_row([\"KNN kdtree on BoW\",13,89])\n",
    "x.add_row([\"KNN brute  on Bigram\",17,89])\n",
    "x.add_row([\"KNN kdtree on Bigram\",17,89])\n",
    "x.add_row([\"KNN brute  on tfidf\",13,89])\n",
    "x.add_row([\"KNN kdtree on tfidf\",13,89])\n",
    "x.add_row([\"KNN brute  on avgW2V\",9,90])\n",
    "x.add_row([\"KNN kdtree on avgW2V\",9,89])\n",
    "x.add_row([\"KNN brute  on tfidfW2V\",21,90])\n",
    "x.add_row([\"KNN kdtree on tfidfW2V\",21,90])\n",
    "print(x)\n"
   ]
  },
  {
   "cell_type": "code",
   "execution_count": null,
   "metadata": {},
   "outputs": [],
   "source": []
  },
  {
   "cell_type": "code",
   "execution_count": null,
   "metadata": {},
   "outputs": [],
   "source": []
  },
  {
   "cell_type": "markdown",
   "metadata": {},
   "source": []
  },
  {
   "cell_type": "code",
   "execution_count": null,
   "metadata": {},
   "outputs": [],
   "source": []
  },
  {
   "cell_type": "code",
   "execution_count": null,
   "metadata": {},
   "outputs": [],
   "source": []
  },
  {
   "cell_type": "code",
   "execution_count": null,
   "metadata": {},
   "outputs": [],
   "source": []
  },
  {
   "cell_type": "code",
   "execution_count": null,
   "metadata": {},
   "outputs": [],
   "source": []
  },
  {
   "cell_type": "code",
   "execution_count": null,
   "metadata": {},
   "outputs": [],
   "source": []
  },
  {
   "cell_type": "markdown",
   "metadata": {},
   "source": []
  },
  {
   "cell_type": "code",
   "execution_count": null,
   "metadata": {},
   "outputs": [],
   "source": []
  },
  {
   "cell_type": "code",
   "execution_count": null,
   "metadata": {},
   "outputs": [],
   "source": []
  },
  {
   "cell_type": "code",
   "execution_count": null,
   "metadata": {},
   "outputs": [],
   "source": []
  },
  {
   "cell_type": "code",
   "execution_count": null,
   "metadata": {},
   "outputs": [],
   "source": []
  },
  {
   "cell_type": "markdown",
   "metadata": {},
   "source": []
  },
  {
   "cell_type": "code",
   "execution_count": null,
   "metadata": {},
   "outputs": [],
   "source": []
  },
  {
   "cell_type": "code",
   "execution_count": null,
   "metadata": {},
   "outputs": [],
   "source": []
  },
  {
   "cell_type": "code",
   "execution_count": null,
   "metadata": {},
   "outputs": [],
   "source": []
  },
  {
   "cell_type": "code",
   "execution_count": null,
   "metadata": {},
   "outputs": [],
   "source": []
  },
  {
   "cell_type": "code",
   "execution_count": null,
   "metadata": {},
   "outputs": [],
   "source": []
  },
  {
   "cell_type": "code",
   "execution_count": null,
   "metadata": {},
   "outputs": [],
   "source": []
  },
  {
   "cell_type": "code",
   "execution_count": null,
   "metadata": {},
   "outputs": [],
   "source": []
  },
  {
   "cell_type": "code",
   "execution_count": 68,
   "metadata": {},
   "outputs": [
    {
     "name": "stderr",
     "output_type": "stream",
     "text": [
      "100%|██████████████████████████████████████████████████████████████████████████| 10000/10000 [00:07<00:00, 1302.59it/s]\n"
     ]
    }
   ],
   "source": []
  },
  {
   "cell_type": "code",
   "execution_count": null,
   "metadata": {},
   "outputs": [],
   "source": []
  },
  {
   "cell_type": "code",
   "execution_count": 70,
   "metadata": {},
   "outputs": [],
   "source": []
  },
  {
   "cell_type": "code",
   "execution_count": null,
   "metadata": {},
   "outputs": [],
   "source": []
  },
  {
   "cell_type": "markdown",
   "metadata": {},
   "source": []
  },
  {
   "cell_type": "markdown",
   "metadata": {},
   "source": []
  },
  {
   "cell_type": "code",
   "execution_count": null,
   "metadata": {},
   "outputs": [],
   "source": []
  },
  {
   "cell_type": "code",
   "execution_count": null,
   "metadata": {},
   "outputs": [],
   "source": []
  },
  {
   "cell_type": "code",
   "execution_count": null,
   "metadata": {},
   "outputs": [],
   "source": []
  },
  {
   "cell_type": "code",
   "execution_count": null,
   "metadata": {},
   "outputs": [],
   "source": []
  },
  {
   "cell_type": "code",
   "execution_count": null,
   "metadata": {},
   "outputs": [],
   "source": []
  },
  {
   "cell_type": "code",
   "execution_count": null,
   "metadata": {},
   "outputs": [],
   "source": []
  },
  {
   "cell_type": "code",
   "execution_count": null,
   "metadata": {},
   "outputs": [],
   "source": []
  },
  {
   "cell_type": "code",
   "execution_count": null,
   "metadata": {},
   "outputs": [],
   "source": []
  },
  {
   "cell_type": "code",
   "execution_count": null,
   "metadata": {},
   "outputs": [],
   "source": []
  },
  {
   "cell_type": "code",
   "execution_count": null,
   "metadata": {},
   "outputs": [],
   "source": []
  },
  {
   "cell_type": "markdown",
   "metadata": {},
   "source": []
  },
  {
   "cell_type": "code",
   "execution_count": null,
   "metadata": {},
   "outputs": [],
   "source": []
  },
  {
   "cell_type": "markdown",
   "metadata": {},
   "source": []
  },
  {
   "cell_type": "markdown",
   "metadata": {},
   "source": [
    "## [4.1] BAG OF WORDS"
   ]
  },
  {
   "cell_type": "code",
   "execution_count": null,
   "metadata": {},
   "outputs": [],
   "source": [
    "#BoW\n",
    "count_vect = CountVectorizer() #in scikit-learn\n",
    "count_vect.fit(preprocessed_reviews)\n",
    "print(\"some feature names \", count_vect.get_feature_names()[:10])\n",
    "print('='*50)\n",
    "\n",
    "final_counts = count_vect.transform(preprocessed_reviews)\n",
    "print(\"the type of count vectorizer \",type(final_counts))\n",
    "print(\"the shape of out text BOW vectorizer \",final_counts.get_shape())\n",
    "print(\"the number of unique words \", final_counts.get_shape()[1])"
   ]
  },
  {
   "cell_type": "markdown",
   "metadata": {},
   "source": [
    "## [4.2] Bi-Grams and n-Grams."
   ]
  },
  {
   "cell_type": "code",
   "execution_count": null,
   "metadata": {},
   "outputs": [],
   "source": [
    "#bi-gram, tri-gram and n-gram\n",
    "\n",
    "#removing stop words like \"not\" should be avoided before building n-grams\n",
    "# count_vect = CountVectorizer(ngram_range=(1,2))\n",
    "# please do read the CountVectorizer documentation http://scikit-learn.org/stable/modules/generated/sklearn.feature_extraction.text.CountVectorizer.html\n",
    "\n",
    "# you can choose these numebrs min_df=10, max_features=5000, of your choice\n",
    "count_vect = CountVectorizer(ngram_range=(1,2), min_df=10, max_features=5000)\n",
    "final_bigram_counts = count_vect.fit_transform(preprocessed_reviews)\n",
    "print(\"the type of count vectorizer \",type(final_bigram_counts))\n",
    "print(\"the shape of out text BOW vectorizer \",final_bigram_counts.get_shape())\n",
    "print(\"the number of unique words including both unigrams and bigrams \", final_bigram_counts.get_shape()[1])"
   ]
  },
  {
   "cell_type": "markdown",
   "metadata": {},
   "source": [
    "## [4.3] TF-IDF"
   ]
  },
  {
   "cell_type": "code",
   "execution_count": null,
   "metadata": {},
   "outputs": [],
   "source": [
    "tf_idf_vect = TfidfVectorizer(ngram_range=(1,2), min_df=10)\n",
    "tf_idf_vect.fit(preprocessed_reviews)\n",
    "print(\"some sample features(unique words in the corpus)\",tf_idf_vect.get_feature_names()[0:10])\n",
    "print('='*50)\n",
    "\n",
    "final_tf_idf = tf_idf_vect.transform(preprocessed_reviews)\n",
    "print(\"the type of count vectorizer \",type(final_tf_idf))\n",
    "print(\"the shape of out text TFIDF vectorizer \",final_tf_idf.get_shape())\n",
    "print(\"the number of unique words including both unigrams and bigrams \", final_tf_idf.get_shape()[1])"
   ]
  },
  {
   "cell_type": "markdown",
   "metadata": {},
   "source": [
    "## [4.4] Word2Vec"
   ]
  },
  {
   "cell_type": "code",
   "execution_count": null,
   "metadata": {},
   "outputs": [],
   "source": [
    "# Train your own Word2Vec model using your own text corpus\n",
    "i=0\n",
    "list_of_sentance=[]\n",
    "for sentance in preprocessed_reviews:\n",
    "    list_of_sentance.append(sentance.split())"
   ]
  },
  {
   "cell_type": "code",
   "execution_count": null,
   "metadata": {
    "scrolled": true
   },
   "outputs": [],
   "source": [
    "# Using Google News Word2Vectors\n",
    "\n",
    "# in this project we are using a pretrained model by google\n",
    "# its 3.3G file, once you load this into your memory \n",
    "# it occupies ~9Gb, so please do this step only if you have >12G of ram\n",
    "# we will provide a pickle file wich contains a dict , \n",
    "# and it contains all our courpus words as keys and  model[word] as values\n",
    "# To use this code-snippet, download \"GoogleNews-vectors-negative300.bin\" \n",
    "# from https://drive.google.com/file/d/0B7XkCwpI5KDYNlNUTTlSS21pQmM/edit\n",
    "# it's 1.9GB in size.\n",
    "\n",
    "\n",
    "# http://kavita-ganesan.com/gensim-word2vec-tutorial-starter-code/#.W17SRFAzZPY\n",
    "# you can comment this whole cell\n",
    "# or change these varible according to your need\n",
    "\n",
    "is_your_ram_gt_16g=False\n",
    "want_to_use_google_w2v = False\n",
    "want_to_train_w2v = True\n",
    "\n",
    "if want_to_train_w2v:\n",
    "    # min_count = 5 considers only words that occured atleast 5 times\n",
    "    w2v_model=Word2Vec(list_of_sentance,min_count=5,size=50, workers=4)\n",
    "    print(w2v_model.wv.most_similar('great'))\n",
    "    print('='*50)\n",
    "    print(w2v_model.wv.most_similar('worst'))\n",
    "    \n",
    "elif want_to_use_google_w2v and is_your_ram_gt_16g:\n",
    "    if os.path.isfile('GoogleNews-vectors-negative300.bin'):\n",
    "        w2v_model=KeyedVectors.load_word2vec_format('GoogleNews-vectors-negative300.bin', binary=True)\n",
    "        print(w2v_model.wv.most_similar('great'))\n",
    "        print(w2v_model.wv.most_similar('worst'))\n",
    "    else:\n",
    "        print(\"you don't have gogole's word2vec file, keep want_to_train_w2v = True, to train your own w2v \")"
   ]
  },
  {
   "cell_type": "code",
   "execution_count": null,
   "metadata": {},
   "outputs": [],
   "source": [
    "w2v_words = list(w2v_model.wv.vocab)\n",
    "print(\"number of words that occured minimum 5 times \",len(w2v_words))\n",
    "print(\"sample words \", w2v_words[0:50])"
   ]
  },
  {
   "cell_type": "markdown",
   "metadata": {},
   "source": [
    "## [4.4.1] Converting text into vectors using Avg W2V, TFIDF-W2V"
   ]
  },
  {
   "cell_type": "markdown",
   "metadata": {},
   "source": [
    "#### [4.4.1.1] Avg W2v"
   ]
  },
  {
   "cell_type": "code",
   "execution_count": null,
   "metadata": {},
   "outputs": [],
   "source": [
    "# average Word2Vec\n",
    "# compute average word2vec for each review.\n",
    "sent_vectors = []; # the avg-w2v for each sentence/review is stored in this list\n",
    "for sent in tqdm(list_of_sentance): # for each review/sentence\n",
    "    sent_vec = np.zeros(50) # as word vectors are of zero length 50, you might need to change this to 300 if you use google's w2v\n",
    "    cnt_words =0; # num of words with a valid vector in the sentence/review\n",
    "    for word in sent: # for each word in a review/sentence\n",
    "        if word in w2v_words:\n",
    "            vec = w2v_model.wv[word]\n",
    "            sent_vec += vec\n",
    "            cnt_words += 1\n",
    "    if cnt_words != 0:\n",
    "        sent_vec /= cnt_words\n",
    "    sent_vectors.append(sent_vec)\n",
    "print(len(sent_vectors))\n",
    "print(len(sent_vectors[0]))"
   ]
  },
  {
   "cell_type": "markdown",
   "metadata": {},
   "source": [
    "#### [4.4.1.2] TFIDF weighted W2v"
   ]
  },
  {
   "cell_type": "code",
   "execution_count": null,
   "metadata": {},
   "outputs": [],
   "source": [
    "# S = [\"abc def pqr\", \"def def def abc\", \"pqr pqr def\"]\n",
    "model = TfidfVectorizer()\n",
    "tf_idf_matrix = model.fit_transform(preprocessed_reviews)\n",
    "# we are converting a dictionary with word as a key, and the idf as a value\n",
    "dictionary = dict(zip(model.get_feature_names(), list(model.idf_)))"
   ]
  },
  {
   "cell_type": "code",
   "execution_count": null,
   "metadata": {
    "scrolled": true
   },
   "outputs": [],
   "source": [
    "# TF-IDF weighted Word2Vec\n",
    "tfidf_feat = model.get_feature_names() # tfidf words/col-names\n",
    "# final_tf_idf is the sparse matrix with row= sentence, col=word and cell_val = tfidf\n",
    "\n",
    "tfidf_sent_vectors = []; # the tfidf-w2v for each sentence/review is stored in this list\n",
    "row=0;\n",
    "for sent in tqdm(list_of_sentance): # for each review/sentence \n",
    "    sent_vec = np.zeros(50) # as word vectors are of zero length\n",
    "    weight_sum =0; # num of words with a valid vector in the sentence/review\n",
    "    for word in sent: # for each word in a review/sentence\n",
    "        if word in w2v_words and word in tfidf_feat:\n",
    "            vec = w2v_model.wv[word]\n",
    "#             tf_idf = tf_idf_matrix[row, tfidf_feat.index(word)]\n",
    "            # to reduce the computation we are \n",
    "            # dictionary[word] = idf value of word in whole courpus\n",
    "            # sent.count(word) = tf valeus of word in this review\n",
    "            tf_idf = dictionary[word]*(sent.count(word)/len(sent))\n",
    "            sent_vec += (vec * tf_idf)\n",
    "            weight_sum += tf_idf\n",
    "    if weight_sum != 0:\n",
    "        sent_vec /= weight_sum\n",
    "    tfidf_sent_vectors.append(sent_vec)\n",
    "    row += 1\n",
    "    \n",
    "    \n",
    "    \n",
    "    "
   ]
  },
  {
   "cell_type": "markdown",
   "metadata": {},
   "source": [
    "# [5] Assignment 3: KNN"
   ]
  },
  {
   "cell_type": "markdown",
   "metadata": {},
   "source": [
    "<ol>\n",
    "    <li><strong>Apply Knn(brute force version) on these feature sets</strong>\n",
    "        <ul>\n",
    "            <li><font color='red'>SET 1:</font>Review text, preprocessed one converted into vectors using (BOW)</li>\n",
    "            <li><font color='red'>SET 2:</font>Review text, preprocessed one converted into vectors using (TFIDF)</li>\n",
    "            <li><font color='red'>SET 3:</font>Review text, preprocessed one converted into vectors using (AVG W2v)</li>\n",
    "            <li><font color='red'>SET 4:</font>Review text, preprocessed one converted into vectors using (TFIDF W2v)</li>\n",
    "        </ul>\n",
    "    </li>\n",
    "    <br>\n",
    "    <li><strong>Apply Knn(kd tree version) on these feature sets</strong>\n",
    "        <br><font color='red'>NOTE: </font>sklearn implementation of kd-tree accepts only dense matrices, you need to convert the sparse matrices of CountVectorizer/TfidfVectorizer into dense matices. You can convert sparse matrices to dense using .toarray() attribute. For more information please visit this <a href='https://docs.scipy.org/doc/scipy-0.18.1/reference/generated/scipy.sparse.csr_matrix.toarray.html'>link</a>\n",
    "        <ul>\n",
    "            <li><font color='red'>SET 5:</font>Review text, preprocessed one converted into vectors using (BOW) but with restriction on maximum features generated.\n",
    "            <pre>\n",
    "            count_vect = CountVectorizer(min_df=10, max_features=500) \n",
    "            count_vect.fit(preprocessed_reviews)\n",
    "            </pre>\n",
    "            </li>\n",
    "            <li><font color='red'>SET 6:</font>Review text, preprocessed one converted into vectors using (TFIDF) but with restriction on maximum features generated.\n",
    "            <pre>\n",
    "                tf_idf_vect = TfidfVectorizer(min_df=10, max_features=500)\n",
    "                tf_idf_vect.fit(preprocessed_reviews)\n",
    "            </pre>\n",
    "            </li>\n",
    "            <li><font color='red'>SET 3:</font>Review text, preprocessed one converted into vectors using (AVG W2v)</li>\n",
    "            <li><font color='red'>SET 4:</font>Review text, preprocessed one converted into vectors using (TFIDF W2v)</li>\n",
    "        </ul>\n",
    "    </li>\n",
    "    <br>\n",
    "    <li><strong>The hyper paramter tuning(find best K)</strong>\n",
    "        <ul>\n",
    "    <li>Find the best hyper parameter which will give the maximum <a href='https://www.appliedaicourse.com/course/applied-ai-course-online/lessons/receiver-operating-characteristic-curve-roc-curve-and-auc-1/'>AUC</a> value</li>\n",
    "    <li>Find the best hyper paramter using k-fold cross validation or simple cross validation data</li>\n",
    "    <li>Use gridsearch cv or randomsearch cv or you can also write your own for loops to do this task of hyperparameter tuning</li>\n",
    "        </ul>\n",
    "    </li>\n",
    "    <br>\n",
    "    <li>\n",
    "    <strong>Representation of results</strong>\n",
    "        <ul>\n",
    "    <li>You need to plot the performance of model both on train data and cross validation data for each hyper parameter, like shown in the figure\n",
    "    <img src='train_cv_auc.JPG' width=300px></li>\n",
    "    <li>Once after you found the best hyper parameter, you need to train your model with it, and find the AUC on test data and plot the ROC curve on both train and test.\n",
    "    <img src='train_test_auc.JPG' width=300px></li>\n",
    "    <li>Along with plotting ROC curve, you need to print the <a href='https://www.appliedaicourse.com/course/applied-ai-course-online/lessons/confusion-matrix-tpr-fpr-fnr-tnr-1/'>confusion matrix</a> with predicted and original labels of test data points\n",
    "    <img src='confusion_matrix.png' width=300px></li>\n",
    "        </ul>\n",
    "    </li>\n",
    "    <br>\n",
    "    <li><strong>Conclusion</strong>\n",
    "        <ul>\n",
    "    <li>You need to summarize the results at the end of the notebook, summarize it in the table format. To print out a table please refer to this prettytable library<a href='http://zetcode.com/python/prettytable/'> link</a> \n",
    "        <img src='summary.JPG' width=400px>\n",
    "    </li>\n",
    "        </ul>\n",
    "</ol>"
   ]
  },
  {
   "cell_type": "markdown",
   "metadata": {},
   "source": [
    "<h4><font color='red'>Note: Data Leakage</font></h4>\n",
    "\n",
    "1. There will be an issue of data-leakage if you vectorize the entire data and then split it into train/cv/test.\n",
    "2. To avoid the issue of data-leakag, make sure to split your data first and then vectorize it. \n",
    "3. While vectorizing your data, apply the method fit_transform() on you train data, and apply the method transform() on cv/test data.\n",
    "4. For more details please go through this <a href='https://soundcloud.com/applied-ai-course/leakage-bow-and-tfidf'>link.</a>"
   ]
  },
  {
   "cell_type": "markdown",
   "metadata": {},
   "source": [
    "## [5.1] Applying KNN brute force"
   ]
  },
  {
   "cell_type": "markdown",
   "metadata": {},
   "source": [
    "### [5.1.1] Applying KNN brute force on BOW,<font color='red'> SET 1</font>"
   ]
  },
  {
   "cell_type": "code",
   "execution_count": null,
   "metadata": {},
   "outputs": [],
   "source": [
    "# Please write all the code with proper documentation"
   ]
  },
  {
   "cell_type": "markdown",
   "metadata": {},
   "source": [
    "### [5.1.2] Applying KNN brute force on TFIDF,<font color='red'> SET 2</font>"
   ]
  },
  {
   "cell_type": "code",
   "execution_count": null,
   "metadata": {},
   "outputs": [],
   "source": [
    "# Please write all the code with proper documentation"
   ]
  },
  {
   "cell_type": "markdown",
   "metadata": {},
   "source": [
    "### [5.1.3] Applying KNN brute force on AVG W2V,<font color='red'> SET 3</font>"
   ]
  },
  {
   "cell_type": "code",
   "execution_count": null,
   "metadata": {},
   "outputs": [],
   "source": [
    "# Please write all the code with proper documentation"
   ]
  },
  {
   "cell_type": "markdown",
   "metadata": {},
   "source": [
    "### [5.1.4] Applying KNN brute force on TFIDF W2V,<font color='red'> SET 4</font>"
   ]
  },
  {
   "cell_type": "code",
   "execution_count": null,
   "metadata": {},
   "outputs": [],
   "source": [
    "# Please write all the code with proper documentation"
   ]
  },
  {
   "cell_type": "markdown",
   "metadata": {},
   "source": [
    "## [5.2] Applying KNN kd-tree"
   ]
  },
  {
   "cell_type": "markdown",
   "metadata": {},
   "source": [
    "### [5.2.1] Applying KNN kd-tree on BOW,<font color='red'> SET 5</font>"
   ]
  },
  {
   "cell_type": "code",
   "execution_count": null,
   "metadata": {},
   "outputs": [],
   "source": [
    "# Please write all the code with proper documentation"
   ]
  },
  {
   "cell_type": "markdown",
   "metadata": {},
   "source": [
    "### [5.2.2] Applying KNN kd-tree on TFIDF,<font color='red'> SET 6</font>"
   ]
  },
  {
   "cell_type": "code",
   "execution_count": null,
   "metadata": {},
   "outputs": [],
   "source": [
    "# Please write all the code with proper documentation"
   ]
  },
  {
   "cell_type": "markdown",
   "metadata": {},
   "source": [
    "### [5.2.3] Applying KNN kd-tree on AVG W2V,<font color='red'> SET 3</font>"
   ]
  },
  {
   "cell_type": "code",
   "execution_count": null,
   "metadata": {},
   "outputs": [],
   "source": [
    "# Please write all the code with proper documentation"
   ]
  },
  {
   "cell_type": "markdown",
   "metadata": {},
   "source": [
    "### [5.2.4] Applying KNN kd-tree on TFIDF W2V,<font color='red'> SET 4</font>"
   ]
  },
  {
   "cell_type": "code",
   "execution_count": null,
   "metadata": {},
   "outputs": [],
   "source": [
    "# Please write all the code with proper documentation"
   ]
  },
  {
   "cell_type": "markdown",
   "metadata": {},
   "source": [
    "# [6] Conclusions"
   ]
  },
  {
   "cell_type": "code",
   "execution_count": null,
   "metadata": {},
   "outputs": [],
   "source": [
    "# Please compare all your models using Prettytable library"
   ]
  }
 ],
 "metadata": {
  "kernelspec": {
   "display_name": "Python 3",
   "language": "python",
   "name": "python3"
  },
  "language_info": {
   "codemirror_mode": {
    "name": "ipython",
    "version": 3
   },
   "file_extension": ".py",
   "mimetype": "text/x-python",
   "name": "python",
   "nbconvert_exporter": "python",
   "pygments_lexer": "ipython3",
   "version": "3.6.5"
  }
 },
 "nbformat": 4,
 "nbformat_minor": 2
}
